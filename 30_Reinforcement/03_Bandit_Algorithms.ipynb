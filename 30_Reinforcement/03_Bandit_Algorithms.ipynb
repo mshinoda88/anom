{
 "cells": [
  {
   "cell_type": "markdown",
   "metadata": {},
   "source": [
    "# Bandit Algorithms"
   ]
  },
  {
   "cell_type": "markdown",
   "metadata": {},
   "source": [
    "## 1. ざっくりバンディットアルゴリズムとは"
   ]
  },
  {
   "cell_type": "markdown",
   "metadata": {},
   "source": [
    "- 実データに基いてWebサイトなどの改善を行う手法の総称\n",
    "- 活用（exploit）と探索（explore）の2つから成る\n",
    "- さまざまなアルゴリズムが考案されている\n",
    "\n",
    "バンディットの文脈では選択肢のことをアームと呼ぶ。\n",
    "\n",
    "例：オンライン広告の場合<br> \n",
    "<br> \n",
    "ラウンド＝ユーザの訪問 <br> \n",
    "アーム＝広告 <br> \n",
    "報酬＝クリック <br> \n",
    "<br> \n",
    "報酬を最大化する行動選択とは、「総クリック数を最大化する広告選択」となる"
   ]
  },
  {
   "cell_type": "markdown",
   "metadata": {},
   "source": [
    "## 2. A/Bテストとの違い\n",
    "\n",
    "そもそもA/Bテストは<br>\n",
    "- N種類のデザインを作ってユーザをランダムに振り分け、\n",
    "- 一番良い結果を導き出した法を採用する\n",
    "\n",
    "という手法のこと。「**データに基づいた**意思決定手法」.N=2である必要は無い。\n",
    "\n",
    "- コンバージョン率\n",
    "- サイト滞在時間\n",
    "\n",
    "のような数値として計測できるものを用いる。\n",
    "\n",
    "重要な要素として、バンディットアルゴリズムは<br>\n",
    "**活用 （exploitation）と 探求 （exploration）**<br>\n",
    "の２つから構成される。\n",
    "\n",
    "活用は現時点で最もよいとされている腕を使うことであり、<br>\n",
    "探求は候補の腕の中でどれが最も優れているかをテストすること.\n",
    "\n",
    "A/Bテストは全てのユーザを**探求に割り振り、活用は行わない**。\n"
   ]
  },
  {
   "cell_type": "markdown",
   "metadata": {},
   "source": [
    "## 3. バンディットアルゴリズムの評価指標\n",
    "\n",
    "[1]Bandit Algorithms for Website Optimizationでは<br>\n",
    "バンディットアルゴリズムの評価指標として下記が列挙されている。"
   ]
  },
  {
   "cell_type": "markdown",
   "metadata": {},
   "source": [
    "- Curiosity<br>\n",
    " 探求から得られた知見を利用するか。<br>一つ一つのテストは独立しているか否か。 \n",
    " \n",
    "- Increased Exploitation over Time<br>\n",
    " 自動的に探求の割合が減っていくか。 \n",
    " \n",
    "- Strategic Exploration<br>\n",
    " 何を最大化するか。<br>利益か、得られる知見か、それともその両方か。  \n",
    " \n",
    "- Number of Tunable Parameters<br>\n",
    " 調整が必要なパラメータ数\n",
    " \n",
    "- Initialization Strategy<br>\n",
    " 各腕に対する初期値の割り当て方\n",
    " \n",
    "- Context-Aware<br>\n",
    " ユーザと腕の相性などを考慮するか。<br>例えば男性、女性を区別できるか、など。  "
   ]
  },
  {
   "cell_type": "markdown",
   "metadata": {},
   "source": [
    "## 4. Epsilon-Greedyアルゴリズム"
   ]
  },
  {
   "cell_type": "markdown",
   "metadata": {},
   "source": [
    "### 4-1. Epsilon-Greedyアルゴリズムとは\n",
    "\n",
    "最も単純なバンディットアルゴリズムである Epsilon-Greedyアルゴリズム を確認する.\n",
    "\n",
    "Epsilon-Greedyアルゴリズムの考え方は極めてシンプルで、<br>\n",
    "$0 \\leq \\epsilon \\leq1$を満たす$\\epsilon$ に対して、<br>\n",
    "全てのユーザの内**$1 - \\epsilon$ は活用、$\\epsilon$は探求を行う**.\n",
    "\n",
    "そして探求に割り当てられたユーザをテストしたい腕に改めて<br>\n",
    "割り振る。<br>\n",
    "この$\\epsilon$ の値を調整することで、活用と探求の割合を増減させることができる。\n",
    "\n",
    "- $\\epsilon = 0$ の場合探求は一切行われない -> これはバンディットアルゴリズムを使っていないのと同じ。\n",
    "- $\\epsilon$ を少しずつ増やしていくと、次第に探求の割合が増えていく。\n",
    "\n",
    "6つの評価指標に照らすと、いくつもの欠点があることが分かる。"
   ]
  },
  {
   "cell_type": "markdown",
   "metadata": {},
   "source": [
    "- Curiosity<br>\n",
    " 常に全ての腕が選ばれる確率が等しい。\n",
    " \n",
    "- Increased Exploitation over Time<br>\n",
    " 探求の割合は一定で、減少しない。\n",
    " \n",
    "- Strategic Exploration<br>\n",
    " 文脈による\n",
    " \n",
    "- Number of Tunable Parameters<br>\n",
    " 調整が必要なパラメータ数$\\epsilon$の一つのみ。\n",
    " \n",
    "- Initialization Strategy<br>\n",
    " 全ての腕が同じ評価\n",
    " \n",
    "- Context-Aware<br>\n",
    " コンテキストは一切考慮しない"
   ]
  },
  {
   "cell_type": "markdown",
   "metadata": {},
   "source": [
    "この方策はシンプルで判りやすいが、<br>\n",
    "**最適な探索回数を見つけるのが困難**という課題があり、<br>\n",
    "探索と活用のバランスをうまく調整できないと次のような問題が生じる.\n",
    "\n",
    "- 探索が少ない　→　活用時に最適でないアームを引き続ける可能性がある\n",
    "- 探索が多い　　→　最適でないアームを余分に引いてしまう\n",
    "\n"
   ]
  },
  {
   "cell_type": "markdown",
   "metadata": {},
   "source": [
    "### 4-2. バンディット問題と確率分布"
   ]
  },
  {
   "cell_type": "markdown",
   "metadata": {},
   "source": [
    "アームの報酬確率分布が何らかの族に入っていることを仮定する。\n",
    "\n",
    "例１：Bernoulli分布族（確率$\\mu_i$ で報酬1, 確率$1 - \\mu_i$ で報酬0, １パラメータの推定） \n",
    "\n",
    "例２：正規分布族（平均と分散の２パラメータを推定） \n",
    "\n",
    "オンライン広告の場合はBernoulli分布族（ク リック/非クリックの２値のため）\n",
    "\n",
    "以下の実装例では、簡単のためBernoulli分布族を仮定する。"
   ]
  },
  {
   "cell_type": "markdown",
   "metadata": {},
   "source": [
    "### 4-3. Epsilon-Greedyアルゴリズム　実装サンプル"
   ]
  },
  {
   "cell_type": "markdown",
   "metadata": {},
   "source": [
    "方策として(1)ランダム選択 をした場合と、(2)Epsilon-Greedyアルゴリズム を選択した<br>\n",
    "場合の獲得報酬の推移を比べてみる。\n",
    "\n",
    "実験では10本のアームを合計で8,000回選ぶ中で累積報酬を最大化すること<br>\n",
    "が目的です.\n",
    "\n",
    "前提として、獲得報酬は0/1のベルヌーイ分布に従い、パラメータpはそれぞれ以下のように<br>\n",
    "設定する。（プレイヤーはこの情報を知らない）\n",
    "\n",
    "|アーム|\t1|\t2|\t3|\t4|\t5|\n",
    "|--|--|\n",
    "|確率|\t5.4%|\t6.9%|\t8.0%|\t9.7%|\t11.2%|\n",
    "|アーム|\t6|\t7|\t8|\t9|\t10|\n",
    "|確率|\t11.9%|\t12.1%|\t14.4%|\t15.5%|\t17.4%|\n",
    "\n",
    "例えば全てアーム1を選択した場合、<br>\n",
    "報酬を受け取る回数の期待値は（0.054 × 8,000回）になり、\n",
    "\n",
    "全てアーム10（最適なアーム）を選択した場合、<br>\n",
    "報酬を受け取る回数の期待値は（0.174 × 10,000回）になる."
   ]
  },
  {
   "cell_type": "code",
   "execution_count": 1,
   "metadata": {
    "collapsed": true
   },
   "outputs": [],
   "source": [
    "import numpy as np\n",
    "import random\n",
    "\n",
    "# アームクラス\n",
    "class BernoulliArm():\n",
    " \n",
    "    def __init__(self, p):\n",
    "        self.p = p\n",
    " \n",
    "    def draw(self):\n",
    "        if random.random() > self.p:\n",
    "            return 0.0\n",
    "        else:\n",
    "            return 1.0\n",
    "\n",
    "# 選択アルゴリズム：ランダム選択\n",
    "class random_select():\n",
    " \n",
    "    def __init__(self, counts, values):\n",
    "        self.counts = counts\n",
    "        self.values = values\n",
    " \n",
    "    def initialize(self, n_arms):\n",
    "        self.counts = np.zeros(n_arms)\n",
    "        self.values = np.zeros(n_arms)\n",
    " \n",
    "    def select_arm(self):\n",
    "        return random.randint(0, len(self.values) - 1)\n",
    " \n",
    "    def update(self, chosen_arm, reward):\n",
    "        self.counts[chosen_arm] = self.counts[chosen_arm] + 1\n",
    "        n = self.counts[chosen_arm]\n",
    "        value = self.values[chosen_arm]\n",
    "        new_value = ((n - 1) / float(n)) * value + (1 / float(n)) * reward\n",
    "        self.values[chosen_arm] = new_value\n",
    "        \n",
    "    def getLabel(self):\n",
    "        return \"Random\"\n",
    "\n",
    "# 選択アルゴリズム：Epsilon-Greedy\n",
    "class EpsilonGreedy():\n",
    " \n",
    "    def __init__(self, epsilon, counts, values):\n",
    "        self.epsilon = epsilon\n",
    "        self.counts = counts\n",
    "        self.values = values\n",
    " \n",
    "    def initialize(self, n_arms):\n",
    "        self.counts = np.zeros(n_arms)\n",
    "        self.values = np.zeros(n_arms)\n",
    " \n",
    "    def select_arm(self):\n",
    "        if random.random() > self.epsilon:\n",
    "            # exploitation 最大値をとるアームを選択\n",
    "            return np.argmax(self.values)\n",
    "        else:\n",
    "            # exploration ランダムに探索するだけ\n",
    "            return random.randint(0, len(self.values) - 1)\n",
    " \n",
    "    def update(self, chosen_arm, reward):\n",
    "        self.counts[chosen_arm] = self.counts[chosen_arm] + 1\n",
    "        n = self.counts[chosen_arm]\n",
    "        value = self.values[chosen_arm]\n",
    "        new_value = ((n - 1) / float(n)) * value + (1 / float(n)) * reward\n",
    "        self.values[chosen_arm] = new_value\n",
    "\n",
    "    def getLabel(self):\n",
    "        return \"Epsilon\\nGreedy\"\n",
    "\n",
    "# アルゴリズム実行\n",
    "def test_algorithm(algo, arms, num_sims, time):\n",
    "    ## args\n",
    "    # algo アルゴリズムクラス\n",
    "    # arms アームクラス\n",
    "    # num_sims  シミュレーション回数\n",
    "    # time 試行回数\n",
    "    \n",
    "    chosen_arms = np.zeros(num_sims * time)\n",
    "    cumulative_rewards = np.zeros(num_sims * time)\n",
    "    times = np.zeros(num_sims * time)\n",
    "    for sim in range(num_sims):\n",
    "        algo.initialize(len(arms))\n",
    "        for t in range(time):\n",
    "            index = sim * time + t\n",
    "            times[index] = t + 1\n",
    "            chosen_arm = algo.select_arm()\n",
    "            chosen_arms[index] = chosen_arm\n",
    "            reward = arms[chosen_arm].draw()\n",
    "            if t == 0:\n",
    "                cumulative_rewards[index] = reward\n",
    "            else:\n",
    "                cumulative_rewards[index] = cumulative_rewards[\n",
    "                    index - 1] + reward\n",
    "            algo.update(chosen_arm, reward)\n",
    "    return [times, chosen_arms, cumulative_rewards]"
   ]
  },
  {
   "cell_type": "code",
   "execution_count": 2,
   "metadata": {
    "collapsed": true
   },
   "outputs": [],
   "source": [
    "import pandas as pd\n",
    "import numpy as np\n",
    "import matplotlib.pyplot as plt\n",
    "import seaborn as sns"
   ]
  },
  {
   "cell_type": "code",
   "execution_count": 3,
   "metadata": {},
   "outputs": [],
   "source": [
    "def diff_algorithms(algo_ary, arms, sim_num, time, colors = sns.color_palette()[:3]):\n",
    "    ## args\n",
    "    # algo_ary アルゴリズム配列\n",
    "    # arms アーム配列\n",
    "    # sim_num シミュレーション数\n",
    "    # time  試行回数\n",
    "\n",
    "    fig = plt.figure()\n",
    "    ax1 = fig.add_subplot(121)\n",
    "    ax2 = fig.add_subplot(122)\n",
    "    heights = []\n",
    "    random.seed(2017)\n",
    "    # アーム数\n",
    "    n_arms = arms.size\n",
    "\n",
    "    for algo in algo_ary:\n",
    "        algo.initialize(n_arms)\n",
    "        result = test_algorithm(algo, arms, sim_num, time)\n",
    "\n",
    "        df_result = pd.DataFrame({\"times\": result[0], \"chosen_arms\": result[1]})\n",
    "        df_result[\"best_arms\"] = (df_result[\"chosen_arms\"]\n",
    "                                  == np.argmax(means)).astype(int)\n",
    "        grouped = df_result[\"best_arms\"].groupby(df_result[\"times\"])\n",
    "\n",
    "        ax1.plot(grouped.mean(), label=algo.__class__.__name__)\n",
    "        heights.append(result[2][-1])\n",
    "\n",
    "    ax1.set_title(\"Best Arm Rate\")\n",
    "    ax1.set_xlabel(\"Time\")\n",
    "    ax1.set_ylabel(\"Best Arm Rate\")\n",
    "    ax1.legend(loc=\"upper left\")\n",
    "\n",
    "    plt_label = []\n",
    "    for algo in algo_ary:\n",
    "        plt_label.append(algo.getLabel())\n",
    "\n",
    "    ax2.bar(range(1, len(algo_ary) + 1), heights, color=colors, align=\"center\")\n",
    "    ax2.set_xticks(range(1, len(algo_ary) + 1))\n",
    "    ax2.set_xticklabels(plt_label)\n",
    "    ax2.set_label(\"random_select\")\n",
    "    ax2.set_ylabel(\"Cumulative Rewards\")\n",
    "    ax2.set_title(\"Cumulative Rewards\")\n",
    "    plt.show()"
   ]
  },
  {
   "cell_type": "code",
   "execution_count": 4,
   "metadata": {},
   "outputs": [
    {
     "data": {
      "image/png": "[encoded data removed]",
      "text/plain": [
       "<matplotlib.figure.Figure at 0x7efdc1522eb8>"
      ]
     },
     "metadata": {},
     "output_type": "display_data"
    }
   ],
   "source": [
    "epsilon = 0.2  # パラメータ\n",
    "means = [0.054,  0.069,  0.080,  0.097,  0.112,\n",
    "         0.119,  0.121,  0.144,  0.155,  0.174]\n",
    "sim_num = 500  # シミュレーション回数\n",
    "time = 5000  # 試行回数\n",
    "arms = pd.Series(map(lambda x: BernoulliArm(x), means))\n",
    "\n",
    "algo_1 = random_select([], [])           # random\n",
    "algo_2 = EpsilonGreedy(epsilon, [], [])  # epsilon-greedy\n",
    "algo_ary = [algo_1, algo_2]\n",
    "\n",
    "diff_algorithms(algo_ary, arms, sim_num, time, colors = sns.color_palette()[:3])"
   ]
  },
  {
   "cell_type": "markdown",
   "metadata": {},
   "source": [
    "左が獲得報酬の平均の推移、右が累積報酬の推移です\n",
    "\n",
    "乱数選択の場合は報酬が上がらず、ほぼ一定ですが、<br>\n",
    "epsilon-greedy の場合は報酬が上がっていることが確認できる."
   ]
  },
  {
   "cell_type": "markdown",
   "metadata": {},
   "source": [
    "## ５. UCB1 アルゴリズム"
   ]
  },
  {
   "cell_type": "markdown",
   "metadata": {},
   "source": [
    "累積報酬を最大化するためには最適なアームを多く引いていくことが重要ですが、<br>\n",
    "選択回数が少ないアームについては報酬が正確に推定できていない可能性を考慮する必要があります。\n",
    "\n",
    "これらのバランスをとれる方策としてUCB1（Upper Confidence Bound）方策がある。\n",
    "\n",
    "この方策では、アームを選択する際に毎回以下の式で表されるスコアを算出し、<br>\n",
    "最もスコアの高いアームを引きます。\n",
    "\n",
    "$\\bar{\\mu}_{i}(t)$ ：時刻tのアームiのスコア\n",
    "\n",
    "$\\hat{\\mu}_{i}(t)$ ：時刻tのアームiの標本平均\n",
    "\n",
    "$N_{i}(t)$ ：時刻tまでのアームiの選択回数\n",
    "\n",
    "$\\bar{\\mu}_i(t)=\\hat{\\mu}_i(t)+\\sqrt{\\frac{\\log t}{2N_i(t)}}\n",
    "$\n",
    "\n",
    "(1)獲得報酬/選択総数＋(2)sqrt(選択総数/(2*アーム選択回数))\n",
    "\n",
    "標本平均(1)「＝活用」に補正項(2)「＝探索」を加えた値がスコアであり、<br>\n",
    "**選択数 $N_{i}(t)$ が少ないアームほど補正項の値は大きく** なります。<br>\n",
    "そのため標本平均は小さいが、選択回数が少ないアームも選ばれることがあります。\n",
    "\n",
    "つまり、単純に標本平均の大きなアームが選択される時は活用が行われ、<br>\n",
    "**標本平均は小さいが、選択回数が少ないアームが選択される時は探索が行なわれている**<br>\n",
    "と言える。\n",
    "\n",
    "このようにUCB方策では探索と活用のバランスをうまくとりながら<br>\n",
    "アームの選択を行い、報酬の最大化を目指す."
   ]
  },
  {
   "cell_type": "markdown",
   "metadata": {},
   "source": [
    "## 6. Thompson Sampling アルゴリズム"
   ]
  },
  {
   "cell_type": "markdown",
   "metadata": {},
   "source": [
    "Thompson Samplingとはベイズ統計の枠組みを利用し、<br>\n",
    "「そのアームが最適なアームである確率」に注目した方策です.\n",
    "\n",
    "アーム$i$ の期待値のパラメータ$\\mu_i$ が何らかの事前分布$\\pi_i(\\mu_i)$ から生成されるとし、<br>\n",
    "時刻$t$ までの観測${\\cal H} (t)$ が得られたときの期待値$\\mu_i$ の事後分布を考えます。"
   ]
  },
  {
   "cell_type": "markdown",
   "metadata": {},
   "source": [
    "「アーム$i$ が最適」という命題は、<br>\n",
    "「ある$x$で$\\mu_i=x$、かつすべての$j\\neq i$で$\\mu_j\\leq x$」<br>\n",
    "と解釈でき、数式を用いると以下のように表現できます。\n",
    "\n",
    "$\n",
    "\\displaystyle\\pi(\\mu_i = \\mu^* |{\\cal H} (t)) = \\int \\pi(x_i|{\\cal H} (t))\\left(\\prod_{j\\neq i}\\int_{x_j\\leq x_i}\\pi_j(x_j|{\\cal H} (t))dx_j\\right)dx_i\n",
    "$\n",
    "\n",
    "この式を各アームについて計算し事後確率を比較すれば良いのですが、<br>\n",
    "一般にこの式を計算することは困難なことが知られています。\n",
    "\n",
    "しかし実際に事後確率を直接比較する必要はなく、以下の手続きを行うことで<br>\n",
    "「期待値最大の事後確率」に基づいたアームの選択を実現することができます。\n",
    "\n",
    "①各アームの期待値の事後分布$\\pi(x_i|{\\cal H}(t))$ から乱数$\\tilde{\\mu}_i$ を生成\n",
    "\n",
    "②$\\tilde{\\mu}_i$ を最大にするアーム$i$ を引く\n",
    "\n",
    "Thompson Sampling方策はUCB方策に比べて余分な探索が少なくなることが知られていて、<br>\n",
    "有限の試行回数でより良い性能を達成することができます。"
   ]
  },
  {
   "cell_type": "markdown",
   "metadata": {},
   "source": [
    "## 7. 方策比較実験\n",
    "\n",
    "以下では、ε-greedy方策、UCB方策、Thompson Sampling方策<br>\n",
    "の比較実験を行います。\n",
    "\n",
    "10本のアームの条件は同じで、試行回数を10,000回にしています."
   ]
  },
  {
   "cell_type": "code",
   "execution_count": 5,
   "metadata": {
    "collapsed": true
   },
   "outputs": [],
   "source": [
    "# 選択アルゴリズム：UCB\n",
    "class UCB():\n",
    " \n",
    "    def __init__(self, counts, values):\n",
    "        self.counts = counts\n",
    "        self.values = values\n",
    " \n",
    "    def initialize(self, n_arms):\n",
    "        self.counts = np.zeros(n_arms)\n",
    "        self.values = np.zeros(n_arms)\n",
    " \n",
    "    def select_arm(self):\n",
    "        n_arms = len(self.counts)\n",
    "        if min(self.counts) == 0:\n",
    "            return np.argmin(self.counts)\n",
    "\n",
    "        # (1)獲得報酬/選択総数 total_counts ＋(2)sqrt(選択総数 total_counts/(2*アーム選択回数 self.counts))\n",
    "        total_counts = sum(self.counts)\n",
    "        bonus = np.sqrt((np.log(np.array(total_counts))) /\n",
    "                        2 / np.array(self.counts))\n",
    "        ucb_values = np.array(self.values) + bonus\n",
    "        return np.argmax(ucb_values)\n",
    " \n",
    "    def update(self, chosen_arm, reward):\n",
    "        self.counts[chosen_arm] = self.counts[chosen_arm] + 1\n",
    "        n = self.counts[chosen_arm]\n",
    "        value = self.values[chosen_arm]\n",
    "        new_value = ((n - 1) / float(n)) * value + (1 / float(n)) * reward\n",
    "        self.values[chosen_arm] = new_value\n",
    "\n",
    "    def getLabel(self):\n",
    "        return \"UCB\"\n",
    "\n",
    "        \n",
    "# 選択アルゴリズム：Thompson Sampling\n",
    "class ThompsonSampling():\n",
    " \n",
    "    def __init__(self, counts_alpha, counts_beta, values):\n",
    "        self.counts_alpha = counts_alpha\n",
    "        self.counts_beta = counts_beta\n",
    "        self.alpha = 1\n",
    "        self.beta = 1\n",
    "        self.values = values\n",
    " \n",
    "    def initialize(self, n_arms):\n",
    "        self.counts_alpha = np.zeros(n_arms)\n",
    "        self.counts_beta = np.zeros(n_arms)\n",
    "        self.values = np.zeros(n_arms)\n",
    " \n",
    "    def select_arm(self):\n",
    "        theta = [(arm,\n",
    "                  random.betavariate(self.counts_alpha[arm] + self.alpha,\n",
    "                                     self.counts_beta[arm] + self.beta))\n",
    "                 for arm in range(len(self.counts_alpha))]\n",
    "        theta = sorted(theta, key=lambda x: x[1])\n",
    "        return theta[-1][0]\n",
    " \n",
    "    def update(self, chosen_arm, reward):\n",
    "        if reward == 1:\n",
    "            self.counts_alpha[chosen_arm] += 1\n",
    "        else:\n",
    "            self.counts_beta[chosen_arm] += 1\n",
    "        n = float(self.counts_alpha[chosen_arm]) + self.counts_beta[chosen_arm]\n",
    "        self.values[chosen_arm] = (n - 1) / n * \\\n",
    "            self.values[chosen_arm] + 1 / n * reward\n",
    "            \n",
    "    def getLabel(self):\n",
    "        return \"Tompson \\nSampling\""
   ]
  },
  {
   "cell_type": "code",
   "execution_count": 7,
   "metadata": {},
   "outputs": [
    {
     "data": {
      "image/png": "[encoded data removed]",
      "text/plain": [
       "<matplotlib.figure.Figure at 0x7efdc1522ba8>"
      ]
     },
     "metadata": {},
     "output_type": "display_data"
    }
   ],
   "source": [
    "algo_2 = EpsilonGreedy(epsilon, [], [])  # epsilon-greedy\n",
    "algo_3 = UCB([], [])                    # UCB\n",
    "algo_4 = ThompsonSampling([], [], [])   # ThompsonSampling\n",
    "algo_ary = [algo_2, algo_3, algo_4]\n",
    "\n",
    "time = 10000  # 試行回数\n",
    "diff_algorithms(algo_ary, arms, sim_num, time, colors = sns.color_palette()[:4])"
   ]
  },
  {
   "cell_type": "markdown",
   "metadata": {},
   "source": [
    "### 実験の考察\n",
    "\n",
    "左図は横軸が試行回数、縦軸が最適なアームを選択した割合\n",
    "\n",
    "- 実験で最も累積報酬が高かったのはThompson Sampling方策<br>\n",
    "  ８０％以上の正答率で最適アームを終盤は選択していることが分かる\n",
    "<br><br>\n",
    "- ε-greedy方策とUCB1方策について<br>\n",
    "最適腕の選択割合（左図）ではε-greedy方策が割合が高いが<br>\n",
    "累積報酬（右図）ではUCB方策の方が多く報酬を獲得している<br>\n",
    "  <br>\n",
    "これは探索時にアームをランダムに選択するε-greedy方策と比べ、<br>\n",
    "UCB方策は**アームごとのUCBスコアに基づいて**アームを選択することで<br>\n",
    "悪いアームの選択回数を抑え、全体として**比較的期待値の高いアームを多く引いた**ため<br>\n",
    "と考えられる\n",
    "    \n",
    "実際には、「報酬最大化」のみならず、計算効率についても考慮する必要がある。\n",
    "\n",
    "ここで取り上げた方策以外にも提案されているものがあるので、別の機会に調査する。\n"
   ]
  },
  {
   "cell_type": "markdown",
   "metadata": {},
   "source": [
    "## 参考文献"
   ]
  },
  {
   "cell_type": "markdown",
   "metadata": {},
   "source": [
    "[1]Bandit Algorithms for Website Optimization: Developing, Deploying, and Debugging<br>\n",
    "https://www.amazon.co.jp/gp/product/B00AM86Y0K/\n",
    "\n",
    "[2]A/Bテストよりすごい？バンディットアルゴリズムとは一体何者か<br>\n",
    "https://qiita.com/yuku_t/items/6844aac6008911401b19\n",
    "\n",
    "[3]20 lines of code that will beat A/B testing every time<br>\n",
    "http://stevehanov.ca/blog/index.php?id=132"
   ]
  },
  {
   "cell_type": "code",
   "execution_count": null,
   "metadata": {
    "collapsed": true
   },
   "outputs": [],
   "source": []
  }
 ],
 "metadata": {
  "kernelspec": {
   "display_name": "Python 3",
   "language": "python",
   "name": "python3"
  },
  "language_info": {
   "codemirror_mode": {
    "name": "ipython",
    "version": 3
   },
   "file_extension": ".py",
   "mimetype": "text/x-python",
   "name": "python",
   "nbconvert_exporter": "python",
   "pygments_lexer": "ipython3",
   "version": "3.6.2"
  }
 },
 "nbformat": 4,
 "nbformat_minor": 2
}
