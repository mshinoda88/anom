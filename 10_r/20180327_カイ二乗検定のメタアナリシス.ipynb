{
 "cells": [
  {
   "cell_type": "markdown",
   "metadata": {},
   "source": [
    "# カイ二乗検定のメタアナリシス"
   ]
  },
  {
   "cell_type": "markdown",
   "metadata": {},
   "source": [
    "## 今回想定しているシチュエーション\n",
    "\n",
    "「あるパーソナライズされた動線改善を4つの異なるeコマースサイトで行った」<br>\n",
    "ケースを想定.\n",
    "\n",
    "4つの eコマースサイトは独立した事業者であるため、統一したアクセス解析はできない<br>\n",
    "と仮定.<br>\n",
    "動線改善は「お気に入り→購入」のところに施したとして、ここでA/Bテストを行ったと仮定する.\n",
    "\n",
    "介入が統計的に有意な差が出るかどうかをRを利用してカイ二乗検定で検証する.\n",
    "\n",
    "この時、アクセス解析の結果からいわゆる2×2分割表として\n",
    "\n",
    "#### サイトA\n",
    "\n",
    "             非CV\tCV\n",
    "改善なし\t250\t125<br>\n",
    "改善あり\t300\t180<br>\n",
    "\n",
    "#### サイトB\n",
    "\n",
    "             非CV\tCV\n",
    "改善なし\t1500\t650<br>\n",
    "改善あり\t1200\t620<br>\n",
    "\n",
    "#### サイトC\n",
    "\n",
    "             非CV\tCV\n",
    "改善なし\t600\t300<br>\n",
    "改善あり\t550\t310<br>\n",
    "\n",
    "#### サイトD\n",
    "\n",
    "            非CV\tCV\n",
    "改善なし\t2200\t1050<br>\n",
    "改善あり\t1300\t700<br>\n",
    "\n",
    "という集計データが得られたものとする.\n",
    "\n",
    "積み上げ棒プロットで図示します."
   ]
  },
  {
   "cell_type": "markdown",
   "metadata": {},
   "source": [
    "<img src=\"./data01.png\">"
   ]
  },
  {
   "cell_type": "markdown",
   "metadata": {},
   "source": [
    "## 1. データ作成\n",
    "\n",
    "まずは行列データとして作成"
   ]
  },
  {
   "cell_type": "code",
   "execution_count": 1,
   "metadata": {},
   "outputs": [],
   "source": [
    "d1= matrix(c(250,125,300,180),ncol=2,byrow=T)\n",
    "d2 = matrix(c(1500,650,1200,620),ncol=2,byrow=T)\n",
    "d3 = matrix(c(600,300,550,310),ncol=2,byrow=T)\n",
    "d4 = matrix(c(2200,1050,1300,700),ncol=2,byrow=T)"
   ]
  },
  {
   "cell_type": "code",
   "execution_count": 2,
   "metadata": {},
   "outputs": [
    {
     "data": {
      "text/html": [
       "<table>\n",
       "<tbody>\n",
       "\t<tr><td>250</td><td>125</td></tr>\n",
       "\t<tr><td>300</td><td>180</td></tr>\n",
       "</tbody>\n",
       "</table>\n"
      ],
      "text/latex": [
       "\\begin{tabular}{ll}\n",
       "\t 250 & 125\\\\\n",
       "\t 300 & 180\\\\\n",
       "\\end{tabular}\n"
      ],
      "text/markdown": [
       "\n",
       "| 250 | 125 | \n",
       "| 300 | 180 | \n",
       "\n",
       "\n"
      ],
      "text/plain": [
       "     [,1] [,2]\n",
       "[1,] 250  125 \n",
       "[2,] 300  180 "
      ]
     },
     "metadata": {},
     "output_type": "display_data"
    }
   ],
   "source": [
    "d1"
   ]
  },
  {
   "cell_type": "code",
   "execution_count": 3,
   "metadata": {},
   "outputs": [
    {
     "data": {
      "text/html": [
       "<table>\n",
       "<tbody>\n",
       "\t<tr><td>1500</td><td>650 </td></tr>\n",
       "\t<tr><td>1200</td><td>620 </td></tr>\n",
       "</tbody>\n",
       "</table>\n"
      ],
      "text/latex": [
       "\\begin{tabular}{ll}\n",
       "\t 1500 & 650 \\\\\n",
       "\t 1200 & 620 \\\\\n",
       "\\end{tabular}\n"
      ],
      "text/markdown": [
       "\n",
       "| 1500 | 650  | \n",
       "| 1200 | 620  | \n",
       "\n",
       "\n"
      ],
      "text/plain": [
       "     [,1] [,2]\n",
       "[1,] 1500 650 \n",
       "[2,] 1200 620 "
      ]
     },
     "metadata": {},
     "output_type": "display_data"
    }
   ],
   "source": [
    "d2"
   ]
  },
  {
   "cell_type": "code",
   "execution_count": 4,
   "metadata": {},
   "outputs": [
    {
     "data": {
      "text/html": [
       "<table>\n",
       "<tbody>\n",
       "\t<tr><td>600</td><td>300</td></tr>\n",
       "\t<tr><td>550</td><td>310</td></tr>\n",
       "</tbody>\n",
       "</table>\n"
      ],
      "text/latex": [
       "\\begin{tabular}{ll}\n",
       "\t 600 & 300\\\\\n",
       "\t 550 & 310\\\\\n",
       "\\end{tabular}\n"
      ],
      "text/markdown": [
       "\n",
       "| 600 | 300 | \n",
       "| 550 | 310 | \n",
       "\n",
       "\n"
      ],
      "text/plain": [
       "     [,1] [,2]\n",
       "[1,] 600  300 \n",
       "[2,] 550  310 "
      ]
     },
     "metadata": {},
     "output_type": "display_data"
    }
   ],
   "source": [
    "d3"
   ]
  },
  {
   "cell_type": "code",
   "execution_count": 5,
   "metadata": {},
   "outputs": [
    {
     "data": {
      "text/html": [
       "<table>\n",
       "<tbody>\n",
       "\t<tr><td>2200</td><td>1050</td></tr>\n",
       "\t<tr><td>1300</td><td> 700</td></tr>\n",
       "</tbody>\n",
       "</table>\n"
      ],
      "text/latex": [
       "\\begin{tabular}{ll}\n",
       "\t 2200 & 1050\\\\\n",
       "\t 1300 &  700\\\\\n",
       "\\end{tabular}\n"
      ],
      "text/markdown": [
       "\n",
       "| 2200 | 1050 | \n",
       "| 1300 |  700 | \n",
       "\n",
       "\n"
      ],
      "text/plain": [
       "     [,1] [,2]\n",
       "[1,] 2200 1050\n",
       "[2,] 1300  700"
      ]
     },
     "metadata": {},
     "output_type": "display_data"
    }
   ],
   "source": [
    "d4"
   ]
  },
  {
   "cell_type": "markdown",
   "metadata": {},
   "source": [
    "## 2. カイ二乗検定\n",
    "\n",
    "一般に2×2分割表で表せるデータに対する効果検証の類は<br>\n",
    "「独立性の検定」即ちカイ二乗検定で行うことができます.\n"
   ]
  },
  {
   "cell_type": "code",
   "execution_count": 6,
   "metadata": {},
   "outputs": [
    {
     "data": {
      "text/plain": [
       "\n",
       "\tPearson's Chi-squared test with Yates' continuity correction\n",
       "\n",
       "data:  d1\n",
       "X-squared = 1.4164, df = 1, p-value = 0.234\n"
      ]
     },
     "metadata": {},
     "output_type": "display_data"
    }
   ],
   "source": [
    "chisq.test(d1)"
   ]
  },
  {
   "cell_type": "code",
   "execution_count": 7,
   "metadata": {},
   "outputs": [
    {
     "data": {
      "text/plain": [
       "\n",
       "\tPearson's Chi-squared test with Yates' continuity correction\n",
       "\n",
       "data:  d2\n",
       "X-squared = 6.4822, df = 1, p-value = 0.0109\n"
      ]
     },
     "metadata": {},
     "output_type": "display_data"
    }
   ],
   "source": [
    "chisq.test(d2)"
   ]
  },
  {
   "cell_type": "code",
   "execution_count": 8,
   "metadata": {},
   "outputs": [
    {
     "data": {
      "text/plain": [
       "\n",
       "\tPearson's Chi-squared test with Yates' continuity correction\n",
       "\n",
       "data:  d3\n",
       "X-squared = 1.3122, df = 1, p-value = 0.252\n"
      ]
     },
     "metadata": {},
     "output_type": "display_data"
    }
   ],
   "source": [
    "chisq.test(d3)"
   ]
  },
  {
   "cell_type": "code",
   "execution_count": 9,
   "metadata": {},
   "outputs": [
    {
     "data": {
      "text/plain": [
       "\n",
       "\tPearson's Chi-squared test with Yates' continuity correction\n",
       "\n",
       "data:  d4\n",
       "X-squared = 3.9182, df = 1, p-value = 0.04777\n"
      ]
     },
     "metadata": {},
     "output_type": "display_data"
    }
   ],
   "source": [
    "chisq.test(d4)"
   ]
  },
  {
   "cell_type": "markdown",
   "metadata": {},
   "source": [
    "### カイ二乗検定の考察\n",
    "\n",
    "<pre>\n",
    "d1 p値＝0.234\n",
    "d２　p値＝0.0109\n",
    "d３ p値＝0.252\n",
    "d４　p値＝0.04777\n",
    "</pre>\n",
    "\n",
    "有意水準p < 0.05とした場合、<br>\n",
    " サイトAは有意でない、Bは有意、Cは有意でない、Dは有意<br>\n",
    "という結果に.\n",
    "\n",
    "これでは「それぞれのサイトでパーソナライズされた動線改善が有効だったか否か」<br>\n",
    "は分かっても、全体として本当に動線改善の効果があったかどうかは何とも言えない.\n",
    "\n",
    "五分五分で、これでは結論が出せないことになってしまう.\n"
   ]
  },
  {
   "cell_type": "markdown",
   "metadata": {},
   "source": [
    "## 3. Cochran-Mantel-Haenszel 検定"
   ]
  },
  {
   "cell_type": "markdown",
   "metadata": {},
   "source": [
    "異なる時間または場所で繰り返された2×2テーブルのデータがある場合は、<br>\n",
    "**Cochran-Mantel-Haenszel検定(以下、CMH検定)**を使用します.\n",
    "\n",
    "前提：独立した2×2のテーブルが複数あること\n",
    "\n",
    "リピート全体で一定の割合の比率があるかどうかを教えてくれます.\n",
    "\n",
    "このように2×2の独立性テストで4つの数字にラベルを付ける.\n",
    "<pre>\n",
    "     a　　b   \n",
    "     c  d\n",
    "</pre>\n",
    "と（a + b + c + d）= nとすると、Cochran-Mantel-Haenszel検定統計量の式を次のように書くことができます."
   ]
  },
  {
   "cell_type": "markdown",
   "metadata": {},
   "source": [
    "$$\n",
    "\\chi_{MH} = \\frac{([\\sum_i (  a - \\frac{ (a + b)(a + c) }{n} ) ] - 0.5)^2 }{ \\sum_i ( \\frac{(a + b)(a + c)(b + d)(c + d)}{n^3-n^2} )}\n",
    "$$"
   ]
  },
  {
   "cell_type": "markdown",
   "metadata": {},
   "source": [
    "分子は、1つのセル（$a$）の観測値と帰無仮説$（a + b）（a + c）/ n$ の期待値との差の絶対値を含むので、<br>\n",
    "分子は偏差の平方和観測値と期待値の間にある.\n",
    "\n",
    "**どのように2×2テーブルを配置するかは関係ない**.4つの値のいずれかをaとして使用できます.<br>\n",
    "連続性補正として0.5を引いています.分母には​​、二乗差の分散の推定値が含まれています.\n",
    "\n",
    "- 検定統計量$\\chi_{MH}$は、観察されたと期待値との差が大きくなるにつれて大きくなる\n",
    "- 自由度1のカイ二乗分布である。\n",
    "- CMH検定の式は、異なる出典によって異なる形で示されていますが、それらはすべて代数的に同等.\n",
    "- ここで示した式には、連続性補正（分子で0.5を引く）が含まれています。これにより、P値がより正確になるはず.\n"
   ]
  },
  {
   "cell_type": "code",
   "execution_count": 10,
   "metadata": {},
   "outputs": [],
   "source": [
    "e1<-function(x){\n",
    "     x[1,1]-(x[1,1]+x[1,2])*(x[1,1]+x[2,1])/sum(x)\n",
    " }\n",
    "e2<-function(x){\n",
    "     ((x[1,1]+x[1,2])*(x[1,1]+x[2,1])*(x[1,2]+x[2,2])*(x[2,1]+x[2,2]))/(sum(x)^3-sum(x)^2)\n",
    "}\n",
    "\n",
    "numerator = ((e1(d1)+e1(d2)+e1(d3)+e1(d4))-0.5)^2\n",
    "denominator = (e2(d1)+e2(d2)+e2(d3)+e2(d4))\n",
    "chi2 = numerator / denominator"
   ]
  },
  {
   "cell_type": "code",
   "execution_count": 11,
   "metadata": {},
   "outputs": [
    {
     "data": {
      "text/html": [
       "0.000298872675311923"
      ],
      "text/latex": [
       "0.000298872675311923"
      ],
      "text/markdown": [
       "0.000298872675311923"
      ],
      "text/plain": [
       "[1] 0.0002988727"
      ]
     },
     "metadata": {},
     "output_type": "display_data"
    }
   ],
   "source": [
    "# Rで計算するには、全確率1からpchisqを引きます。\n",
    "degree = 1 # 自由度1のカイ二乗分布\n",
    "1-pchisq(chi2,degree)"
   ]
  },
  {
   "cell_type": "markdown",
   "metadata": {},
   "source": [
    "この例では、有意水準をp < 0.05に置く限りは<br>\n",
    "「4サイト共通のパーソナライズされた動線改善の効果は有意に見られる」<br>\n",
    "と言える."
   ]
  },
  {
   "cell_type": "markdown",
   "metadata": {},
   "source": [
    "## 4. metafor パッケージによる検定"
   ]
  },
  {
   "cell_type": "markdown",
   "metadata": {},
   "source": [
    "CRAN<br>\n",
    "https://cran.r-project.org/<br>\n",
    "には{metafor}というメタアナリシスに特化したパッケージがあります.\n",
    "\n",
    "rma.mh関数で、簡単にCMH 検定testの計算ができます.\n"
   ]
  },
  {
   "cell_type": "code",
   "execution_count": 12,
   "metadata": {},
   "outputs": [
    {
     "name": "stderr",
     "output_type": "stream",
     "text": [
      "Updating HTML index of packages in '.Library'\n",
      "Making 'packages.html' ... done\n",
      "Loading required package: Matrix\n",
      "Loading 'metafor' package (version 2.0-0). For an overview \n",
      "and introduction to the package please type: help(metafor).\n"
     ]
    }
   ],
   "source": [
    "install.packages('metafor')\n",
    "library(metafor)"
   ]
  },
  {
   "cell_type": "code",
   "execution_count": 13,
   "metadata": {},
   "outputs": [
    {
     "data": {
      "text/plain": [
       "\n",
       "Fixed-Effects Model (k = 4)\n",
       "\n",
       "Test for Heterogeneity: \n",
       "Q(df = 3) = 0.4987, p-val = 0.9192\n",
       "\n",
       "Model Results (log scale):\n",
       "\n",
       "estimate      se    zval    pval   ci.lb   ci.ub\n",
       "  0.1437  0.0395  3.6361  0.0003  0.0662  0.2212\n",
       "\n",
       "Model Results (OR scale):\n",
       "\n",
       "estimate   ci.lb   ci.ub\n",
       "  1.1546  1.0685  1.2476\n",
       "\n",
       "Cochran-Mantel-Haenszel Test:    CMH = 13.0774, df = 1, p-val = 0.0003\n",
       "Tarone's Test for Heterogeneity: X^2 =  0.4987, df = 3, p-val = 0.9192\n"
      ]
     },
     "metadata": {},
     "output_type": "display_data"
    }
   ],
   "source": [
    "rma.mh(c(d1[1,1],d2[1,1],d3[1,1],d4[1,1]),\n",
    "       c(d1[1,2],d2[1,2],d3[1,2],d4[1,2]),\n",
    "       c(d1[2,1],d2[2,1],d3[2,1],d4[2,1]),\n",
    "       c(d1[2,2],d2[2,2],d3[2,2],d4[2,2]))"
   ]
  },
  {
   "cell_type": "markdown",
   "metadata": {},
   "source": [
    "### rma.mh 実行結果の考察\n",
    "Cochran-Mantel-Haenszel Test:の欄を確認すると、\n",
    "\n",
    "CMH = 13.0774, <br>\n",
    "df(degree of freedom:自由度) = 1<br>\n",
    "p-val = 0.0003< 0.05 となり「効果は有意に見られる」ことを確認できる\n",
    "\n",
    "そもそもこのようなメタアナリシスを行って良いかどうかの指標にもなる<br>\n",
    "heterogeneityのチェックもできます.以下ではこのheterogeneityについて見ていきます."
   ]
  },
  {
   "cell_type": "markdown",
   "metadata": {},
   "source": [
    "## 5. 異質性 (heterogeneity)"
   ]
  },
  {
   "cell_type": "markdown",
   "metadata": {},
   "source": [
    "異質性(heterogeneity)とは、簡単に言えばメタ解析の結果のバラつき具合のこと\n",
    "\n",
    "<pre>\n",
    "Test for Heterogeneity: \n",
    "Q(df = 3) = 0.4987, p-val = 0.9192\n",
    "</pre>\n",
    "\n",
    "コクランのQ検定はp値が小さいほど異質性が高いとみなされます.\n"
   ]
  },
  {
   "cell_type": "markdown",
   "metadata": {},
   "source": [
    "## 参考文献\n",
    "\n",
    "Cochran–Mantel–Haenszel test for repeated tests of independence<br>\n",
    "http://www.biostathandbook.com/cmh.html\n",
    "\n",
    "Rで実践する統計的検定の初歩<br>\n",
    "http://www.atmarkit.co.jp/ait/articles/1008/04/news090_2.html\n",
    "\n",
    "CRAN - The Comprehensive R Archive Network<br>\n",
    "https://cran.r-project.org/\n",
    "\n",
    "メタ解析の異質性(heterogeneity)について知る　<br>\n",
    "https://ameblo.jp/intelligent-pharmacist/entry-12123408452.html\n",
    "\n",
    "メタ・アナリシスの入門<br>\n",
    "https://www.slideshare.net/YoshihikoKunisato/ss-37490113\n",
    "\n",
    "明日から読めるメタ・アナリシス<br>\n",
    "https://www.slideshare.net/okumurayasuyuki/meta-analysis-okumura"
   ]
  },
  {
   "cell_type": "code",
   "execution_count": null,
   "metadata": {},
   "outputs": [],
   "source": []
  }
 ],
 "metadata": {
  "kernelspec": {
   "display_name": "R",
   "language": "R",
   "name": "ir"
  },
  "language_info": {
   "codemirror_mode": "r",
   "file_extension": ".r",
   "mimetype": "text/x-r-source",
   "name": "R",
   "pygments_lexer": "r",
   "version": "3.4.3"
  }
 },
 "nbformat": 4,
 "nbformat_minor": 2
}
