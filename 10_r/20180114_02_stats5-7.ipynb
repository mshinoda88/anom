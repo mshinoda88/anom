{
 "cells": [
  {
   "cell_type": "markdown",
   "metadata": {},
   "source": [
    "## 5章 GLMの尤度比検定と検定の非対称性"
   ]
  },
  {
   "cell_type": "markdown",
   "metadata": {},
   "source": [
    "一定レベルとxレベルのポアソン分布で残差逸脱度の差を見て見る。"
   ]
  },
  {
   "cell_type": "code",
   "execution_count": 1,
   "metadata": {},
   "outputs": [
    {
     "data": {
      "text/html": [
       "4.51394107885181"
      ],
      "text/latex": [
       "4.51394107885181"
      ],
      "text/markdown": [
       "4.51394107885181"
      ],
      "text/plain": [
       "[1] 4.513941"
      ]
     },
     "metadata": {},
     "output_type": "display_data"
    }
   ],
   "source": [
    "d <- read.csv('data3a.csv')\n",
    "fit1 <- glm(y ~ 1, data=d, family=poisson)\n",
    "fit2 <- glm(y ~ x, data=d, family=poisson)\n",
    "fit1$deviance - fit2$deviance"
   ]
  },
  {
   "cell_type": "markdown",
   "metadata": {},
   "source": [
    "### PB法（パラメトリックブートストラップ法）・・・乱数生成に基づくアプローチ"
   ]
  },
  {
   "cell_type": "code",
   "execution_count": 2,
   "metadata": {},
   "outputs": [
    {
     "data": {
      "text/html": [
       "0.00151984048017084"
      ],
      "text/latex": [
       "0.00151984048017084"
      ],
      "text/markdown": [
       "0.00151984048017084"
      ],
      "text/plain": [
       "[1] 0.00151984"
      ]
     },
     "metadata": {},
     "output_type": "display_data"
    }
   ],
   "source": [
    "d$y.rnd = rpois(100, lambda = mean(d$y))\n",
    "fit1 <- glm(y.rnd ~ 1, data=d, family=poisson)\n",
    "fit2 <- glm(y.rnd ~ x, data=d, family=poisson)\n",
    "fit1$deviance - fit2$deviance"
   ]
  },
  {
   "cell_type": "markdown",
   "metadata": {},
   "source": [
    "以上、帰無仮説（一定モデル）を仮定して、逸脱度の差を計算するのが、PB法の1ステップに相当する。<br>\n",
    "これを繰り返すことで、逸脱度の差の分布を得ることができる。\n",
    "\n",
    "<pre>\n",
    "(1) 平均 mean(d$y) のポアソン乱数生成 -> d$y.rnd に格納\n",
    "(2) d$y.rnd に対する一定モデル、xモデル を glm() で推定 -> 結果を fit1,fi2 で格納\n",
    "(3) 逸脱度の差を計算\n",
    "</pre>"
   ]
  },
  {
   "cell_type": "markdown",
   "metadata": {},
   "source": [
    "以下はPB法実行の自作関数とその実行"
   ]
  },
  {
   "cell_type": "code",
   "execution_count": 3,
   "metadata": {},
   "outputs": [
    {
     "data": {
      "text/plain": [
       "    Min.  1st Qu.   Median     Mean  3rd Qu.     Max. \n",
       " 0.00000  0.08269  0.39023  0.95612  1.21823 10.71279 "
      ]
     },
     "metadata": {},
     "output_type": "display_data"
    }
   ],
   "source": [
    "get.dd <- function(d) {\n",
    "    n.sample <- nrow(d)\n",
    "    y.mean <- mean(d$y)\n",
    "    d$y.rnd <- rpois(n.sample, lambda = y.mean)\n",
    "    fit1 <- glm(y.rnd ~ 1, data=d, family=poisson)\n",
    "    fit2 <- glm(y.rnd ~ x, data=d, family=poisson)\n",
    "    fit1$deviance - fit2$deviance\n",
    "}\n",
    "\n",
    "pb <- function(d, n.bootstrap) {\n",
    "    replicate(n.bootstrap, get.dd(d))\n",
    "}\n",
    "\n",
    "dd12 <- pb(d, n.bootstrap = 1000)\n",
    "summary(dd12)"
   ]
  },
  {
   "cell_type": "code",
   "execution_count": 4,
   "metadata": {},
   "outputs": [
    {
     "data": {
      "image/png": "[encoded data removed]",
      "text/plain": [
       "Plot with title “Histogram of dd12”"
      ]
     },
     "metadata": {},
     "output_type": "display_data"
    }
   ],
   "source": [
    "hist(dd12)\n",
    "abline(v=4.5, lty = 2)"
   ]
  },
  {
   "cell_type": "code",
   "execution_count": 5,
   "metadata": {},
   "outputs": [
    {
     "data": {
      "text/html": [
       "44"
      ],
      "text/latex": [
       "44"
      ],
      "text/markdown": [
       "44"
      ],
      "text/plain": [
       "[1] 44"
      ]
     },
     "metadata": {},
     "output_type": "display_data"
    }
   ],
   "source": [
    "sum(dd12 >= 4.5)"
   ]
  },
  {
   "cell_type": "code",
   "execution_count": 6,
   "metadata": {},
   "outputs": [
    {
     "data": {
      "text/html": [
       "0.028"
      ],
      "text/latex": [
       "0.028"
      ],
      "text/markdown": [
       "0.028"
      ],
      "text/plain": [
       "[1] 0.028"
      ]
     },
     "metadata": {},
     "output_type": "display_data"
    }
   ],
   "source": [
    "P <- 28 / 1000\n",
    "P"
   ]
  },
  {
   "cell_type": "markdown",
   "metadata": {},
   "source": [
    "P < 0.05 なので、有意差がある。<br>\n",
    "帰無仮説（一定モデル）は棄却されて x モデルが残るので、これを採択する。"
   ]
  },
  {
   "cell_type": "code",
   "execution_count": 7,
   "metadata": {},
   "outputs": [
    {
     "data": {
      "text/html": [
       "<strong>95%:</strong> 4.27063022438266"
      ],
      "text/latex": [
       "\\textbf{95\\textbackslash{}\\%:} 4.27063022438266"
      ],
      "text/markdown": [
       "**95%:** 4.27063022438266"
      ],
      "text/plain": [
       "    95% \n",
       "4.27063 "
      ]
     },
     "metadata": {},
     "output_type": "display_data"
    }
   ],
   "source": [
    "quantile(dd12, 0.95)"
   ]
  },
  {
   "cell_type": "markdown",
   "metadata": {},
   "source": [
    "### $\\chi^2$分布を使った近似計算法"
   ]
  },
  {
   "cell_type": "code",
   "execution_count": 8,
   "metadata": {},
   "outputs": [
    {
     "data": {
      "text/html": [
       "<table>\n",
       "<thead><tr><th scope=col>Resid. Df</th><th scope=col>Resid. Dev</th><th scope=col>Df</th><th scope=col>Deviance</th><th scope=col>Pr(&gt;Chi)</th></tr></thead>\n",
       "<tbody>\n",
       "\t<tr><td>99        </td><td>89.50694  </td><td>NA        </td><td>      NA  </td><td>        NA</td></tr>\n",
       "\t<tr><td>98        </td><td>84.99300  </td><td> 1        </td><td>4.513941  </td><td>0.03361969</td></tr>\n",
       "</tbody>\n",
       "</table>\n"
      ],
      "text/latex": [
       "\\begin{tabular}{r|lllll}\n",
       " Resid. Df & Resid. Dev & Df & Deviance & Pr(>Chi)\\\\\n",
       "\\hline\n",
       "\t 99         & 89.50694   & NA         &       NA   &         NA\\\\\n",
       "\t 98         & 84.99300   &  1         & 4.513941   & 0.03361969\\\\\n",
       "\\end{tabular}\n"
      ],
      "text/markdown": [
       "\n",
       "Resid. Df | Resid. Dev | Df | Deviance | Pr(>Chi) | \n",
       "|---|---|\n",
       "| 99         | 89.50694   | NA         |       NA   |         NA | \n",
       "| 98         | 84.99300   |  1         | 4.513941   | 0.03361969 | \n",
       "\n",
       "\n"
      ],
      "text/plain": [
       "  Resid. Df Resid. Dev Df Deviance Pr(>Chi)  \n",
       "1 99        89.50694   NA       NA         NA\n",
       "2 98        84.99300    1 4.513941 0.03361969"
      ]
     },
     "metadata": {},
     "output_type": "display_data"
    }
   ],
   "source": [
    "fit1 <- glm(y ~ 1, data=d, family=poisson)\n",
    "fit2 <- glm(y ~ x, data=d, family=poisson)\n",
    "anova(fit1, fit2, test = \"Chisq\")"
   ]
  },
  {
   "cell_type": "markdown",
   "metadata": {},
   "source": [
    "test = \"Chisq\"　と指定することで、カイ自乗分布近似を利用できる。"
   ]
  },
  {
   "cell_type": "markdown",
   "metadata": {},
   "source": [
    "$\\chi^2$分布近似はサンプルサイズが大きい場合に有効な近似計算。\n",
    "\n",
    "サンプルサイズが小さい場合は、PB法を使ってシミュレーションするのが良い。 <br>\n",
    "等分散正規分布が仮定できる場合には、t分布（平均の差）やF分布（分散比）を<br>\n",
    "使った方が正確な結果を得ることができる。\n",
    "\n",
    "ただし、あくまで P 値は P 値であって、決して効果の大きさを言うものではない（それは効果量 effect size の仕事）"
   ]
  },
  {
   "cell_type": "markdown",
   "metadata": {},
   "source": [
    "## 6章 GLMの応用範囲をひろげる"
   ]
  },
  {
   "cell_type": "code",
   "execution_count": 9,
   "metadata": {},
   "outputs": [
    {
     "data": {
      "text/plain": [
       "       N           y              x          f     \n",
       " Min.   :8   Min.   :0.00   Min.   : 7.660   C:50  \n",
       " 1st Qu.:8   1st Qu.:3.00   1st Qu.: 9.338   T:50  \n",
       " Median :8   Median :6.00   Median : 9.965         \n",
       " Mean   :8   Mean   :5.08   Mean   : 9.967         \n",
       " 3rd Qu.:8   3rd Qu.:8.00   3rd Qu.:10.770         \n",
       " Max.   :8   Max.   :8.00   Max.   :12.440         "
      ]
     },
     "metadata": {},
     "output_type": "display_data"
    },
    {
     "data": {
      "text/html": [
       "<table>\n",
       "<thead><tr><th scope=col>N</th><th scope=col>y</th><th scope=col>x</th><th scope=col>f</th></tr></thead>\n",
       "<tbody>\n",
       "\t<tr><td>8    </td><td>1    </td><td> 9.76</td><td>C    </td></tr>\n",
       "\t<tr><td>8    </td><td>6    </td><td>10.48</td><td>C    </td></tr>\n",
       "\t<tr><td>8    </td><td>5    </td><td>10.83</td><td>C    </td></tr>\n",
       "\t<tr><td>8    </td><td>6    </td><td>10.94</td><td>C    </td></tr>\n",
       "\t<tr><td>8    </td><td>1    </td><td> 9.37</td><td>C    </td></tr>\n",
       "\t<tr><td>8    </td><td>1    </td><td> 8.81</td><td>C    </td></tr>\n",
       "\t<tr><td>8    </td><td>3    </td><td> 9.49</td><td>C    </td></tr>\n",
       "\t<tr><td>8    </td><td>6    </td><td>11.02</td><td>C    </td></tr>\n",
       "\t<tr><td>8    </td><td>0    </td><td> 7.97</td><td>C    </td></tr>\n",
       "\t<tr><td>8    </td><td>8    </td><td>11.55</td><td>C    </td></tr>\n",
       "\t<tr><td>8    </td><td>0    </td><td> 9.46</td><td>C    </td></tr>\n",
       "\t<tr><td>8    </td><td>2    </td><td> 9.47</td><td>C    </td></tr>\n",
       "\t<tr><td>8    </td><td>0    </td><td> 8.71</td><td>C    </td></tr>\n",
       "\t<tr><td>8    </td><td>5    </td><td>10.42</td><td>C    </td></tr>\n",
       "\t<tr><td>8    </td><td>3    </td><td>10.06</td><td>C    </td></tr>\n",
       "\t<tr><td>8    </td><td>6    </td><td>11.00</td><td>C    </td></tr>\n",
       "\t<tr><td>8    </td><td>3    </td><td> 9.95</td><td>C    </td></tr>\n",
       "\t<tr><td>8    </td><td>4    </td><td> 9.52</td><td>C    </td></tr>\n",
       "\t<tr><td>8    </td><td>5    </td><td>10.26</td><td>C    </td></tr>\n",
       "\t<tr><td>8    </td><td>8    </td><td>11.33</td><td>C    </td></tr>\n",
       "\t<tr><td>8    </td><td>5    </td><td> 9.77</td><td>C    </td></tr>\n",
       "\t<tr><td>8    </td><td>8    </td><td>10.59</td><td>C    </td></tr>\n",
       "\t<tr><td>8    </td><td>1    </td><td> 9.35</td><td>C    </td></tr>\n",
       "\t<tr><td>8    </td><td>4    </td><td>10.00</td><td>C    </td></tr>\n",
       "\t<tr><td>8    </td><td>1    </td><td> 9.53</td><td>C    </td></tr>\n",
       "\t<tr><td>8    </td><td>8    </td><td>12.06</td><td>C    </td></tr>\n",
       "\t<tr><td>8    </td><td>4    </td><td> 9.68</td><td>C    </td></tr>\n",
       "\t<tr><td>8    </td><td>7    </td><td>11.32</td><td>C    </td></tr>\n",
       "\t<tr><td>8    </td><td>5    </td><td>10.48</td><td>C    </td></tr>\n",
       "\t<tr><td>8    </td><td>5    </td><td>10.37</td><td>C    </td></tr>\n",
       "\t<tr><td>⋮</td><td>⋮</td><td>⋮</td><td>⋮</td></tr>\n",
       "\t<tr><td>8    </td><td>8    </td><td> 9.83</td><td>T    </td></tr>\n",
       "\t<tr><td>8    </td><td>0    </td><td> 7.66</td><td>T    </td></tr>\n",
       "\t<tr><td>8    </td><td>6    </td><td> 9.33</td><td>T    </td></tr>\n",
       "\t<tr><td>8    </td><td>1    </td><td> 8.20</td><td>T    </td></tr>\n",
       "\t<tr><td>8    </td><td>8    </td><td> 9.54</td><td>T    </td></tr>\n",
       "\t<tr><td>8    </td><td>8    </td><td>10.55</td><td>T    </td></tr>\n",
       "\t<tr><td>8    </td><td>6    </td><td> 9.88</td><td>T    </td></tr>\n",
       "\t<tr><td>8    </td><td>6    </td><td> 9.34</td><td>T    </td></tr>\n",
       "\t<tr><td>8    </td><td>6    </td><td>10.38</td><td>T    </td></tr>\n",
       "\t<tr><td>8    </td><td>6    </td><td> 9.63</td><td>T    </td></tr>\n",
       "\t<tr><td>8    </td><td>8    </td><td>12.44</td><td>T    </td></tr>\n",
       "\t<tr><td>8    </td><td>8    </td><td>10.17</td><td>T    </td></tr>\n",
       "\t<tr><td>8    </td><td>7    </td><td> 9.29</td><td>T    </td></tr>\n",
       "\t<tr><td>8    </td><td>8    </td><td>11.17</td><td>T    </td></tr>\n",
       "\t<tr><td>8    </td><td>6    </td><td> 9.13</td><td>T    </td></tr>\n",
       "\t<tr><td>8    </td><td>2    </td><td> 8.79</td><td>T    </td></tr>\n",
       "\t<tr><td>8    </td><td>0    </td><td> 8.19</td><td>T    </td></tr>\n",
       "\t<tr><td>8    </td><td>7    </td><td>10.25</td><td>T    </td></tr>\n",
       "\t<tr><td>8    </td><td>8    </td><td>11.30</td><td>T    </td></tr>\n",
       "\t<tr><td>8    </td><td>8    </td><td>10.84</td><td>T    </td></tr>\n",
       "\t<tr><td>8    </td><td>8    </td><td>10.97</td><td>T    </td></tr>\n",
       "\t<tr><td>8    </td><td>3    </td><td> 8.60</td><td>T    </td></tr>\n",
       "\t<tr><td>8    </td><td>7    </td><td> 9.91</td><td>T    </td></tr>\n",
       "\t<tr><td>8    </td><td>8    </td><td>11.38</td><td>T    </td></tr>\n",
       "\t<tr><td>8    </td><td>8    </td><td>10.39</td><td>T    </td></tr>\n",
       "\t<tr><td>8    </td><td>7    </td><td>10.45</td><td>T    </td></tr>\n",
       "\t<tr><td>8    </td><td>0    </td><td> 8.94</td><td>T    </td></tr>\n",
       "\t<tr><td>8    </td><td>5    </td><td> 8.94</td><td>T    </td></tr>\n",
       "\t<tr><td>8    </td><td>8    </td><td>10.14</td><td>T    </td></tr>\n",
       "\t<tr><td>8    </td><td>1    </td><td> 8.50</td><td>T    </td></tr>\n",
       "</tbody>\n",
       "</table>\n"
      ],
      "text/latex": [
       "\\begin{tabular}{r|llll}\n",
       " N & y & x & f\\\\\n",
       "\\hline\n",
       "\t 8     & 1     &  9.76 & C    \\\\\n",
       "\t 8     & 6     & 10.48 & C    \\\\\n",
       "\t 8     & 5     & 10.83 & C    \\\\\n",
       "\t 8     & 6     & 10.94 & C    \\\\\n",
       "\t 8     & 1     &  9.37 & C    \\\\\n",
       "\t 8     & 1     &  8.81 & C    \\\\\n",
       "\t 8     & 3     &  9.49 & C    \\\\\n",
       "\t 8     & 6     & 11.02 & C    \\\\\n",
       "\t 8     & 0     &  7.97 & C    \\\\\n",
       "\t 8     & 8     & 11.55 & C    \\\\\n",
       "\t 8     & 0     &  9.46 & C    \\\\\n",
       "\t 8     & 2     &  9.47 & C    \\\\\n",
       "\t 8     & 0     &  8.71 & C    \\\\\n",
       "\t 8     & 5     & 10.42 & C    \\\\\n",
       "\t 8     & 3     & 10.06 & C    \\\\\n",
       "\t 8     & 6     & 11.00 & C    \\\\\n",
       "\t 8     & 3     &  9.95 & C    \\\\\n",
       "\t 8     & 4     &  9.52 & C    \\\\\n",
       "\t 8     & 5     & 10.26 & C    \\\\\n",
       "\t 8     & 8     & 11.33 & C    \\\\\n",
       "\t 8     & 5     &  9.77 & C    \\\\\n",
       "\t 8     & 8     & 10.59 & C    \\\\\n",
       "\t 8     & 1     &  9.35 & C    \\\\\n",
       "\t 8     & 4     & 10.00 & C    \\\\\n",
       "\t 8     & 1     &  9.53 & C    \\\\\n",
       "\t 8     & 8     & 12.06 & C    \\\\\n",
       "\t 8     & 4     &  9.68 & C    \\\\\n",
       "\t 8     & 7     & 11.32 & C    \\\\\n",
       "\t 8     & 5     & 10.48 & C    \\\\\n",
       "\t 8     & 5     & 10.37 & C    \\\\\n",
       "\t ⋮ & ⋮ & ⋮ & ⋮\\\\\n",
       "\t 8     & 8     &  9.83 & T    \\\\\n",
       "\t 8     & 0     &  7.66 & T    \\\\\n",
       "\t 8     & 6     &  9.33 & T    \\\\\n",
       "\t 8     & 1     &  8.20 & T    \\\\\n",
       "\t 8     & 8     &  9.54 & T    \\\\\n",
       "\t 8     & 8     & 10.55 & T    \\\\\n",
       "\t 8     & 6     &  9.88 & T    \\\\\n",
       "\t 8     & 6     &  9.34 & T    \\\\\n",
       "\t 8     & 6     & 10.38 & T    \\\\\n",
       "\t 8     & 6     &  9.63 & T    \\\\\n",
       "\t 8     & 8     & 12.44 & T    \\\\\n",
       "\t 8     & 8     & 10.17 & T    \\\\\n",
       "\t 8     & 7     &  9.29 & T    \\\\\n",
       "\t 8     & 8     & 11.17 & T    \\\\\n",
       "\t 8     & 6     &  9.13 & T    \\\\\n",
       "\t 8     & 2     &  8.79 & T    \\\\\n",
       "\t 8     & 0     &  8.19 & T    \\\\\n",
       "\t 8     & 7     & 10.25 & T    \\\\\n",
       "\t 8     & 8     & 11.30 & T    \\\\\n",
       "\t 8     & 8     & 10.84 & T    \\\\\n",
       "\t 8     & 8     & 10.97 & T    \\\\\n",
       "\t 8     & 3     &  8.60 & T    \\\\\n",
       "\t 8     & 7     &  9.91 & T    \\\\\n",
       "\t 8     & 8     & 11.38 & T    \\\\\n",
       "\t 8     & 8     & 10.39 & T    \\\\\n",
       "\t 8     & 7     & 10.45 & T    \\\\\n",
       "\t 8     & 0     &  8.94 & T    \\\\\n",
       "\t 8     & 5     &  8.94 & T    \\\\\n",
       "\t 8     & 8     & 10.14 & T    \\\\\n",
       "\t 8     & 1     &  8.50 & T    \\\\\n",
       "\\end{tabular}\n"
      ],
      "text/markdown": [
       "\n",
       "N | y | x | f | \n",
       "|---|---|---|---|---|---|---|---|---|---|---|---|---|---|---|---|---|---|---|---|---|---|---|---|---|---|---|---|---|---|---|---|---|---|---|---|---|---|---|---|---|---|---|---|---|---|---|---|---|---|---|---|---|---|---|---|---|---|---|---|---|\n",
       "| 8     | 1     |  9.76 | C     | \n",
       "| 8     | 6     | 10.48 | C     | \n",
       "| 8     | 5     | 10.83 | C     | \n",
       "| 8     | 6     | 10.94 | C     | \n",
       "| 8     | 1     |  9.37 | C     | \n",
       "| 8     | 1     |  8.81 | C     | \n",
       "| 8     | 3     |  9.49 | C     | \n",
       "| 8     | 6     | 11.02 | C     | \n",
       "| 8     | 0     |  7.97 | C     | \n",
       "| 8     | 8     | 11.55 | C     | \n",
       "| 8     | 0     |  9.46 | C     | \n",
       "| 8     | 2     |  9.47 | C     | \n",
       "| 8     | 0     |  8.71 | C     | \n",
       "| 8     | 5     | 10.42 | C     | \n",
       "| 8     | 3     | 10.06 | C     | \n",
       "| 8     | 6     | 11.00 | C     | \n",
       "| 8     | 3     |  9.95 | C     | \n",
       "| 8     | 4     |  9.52 | C     | \n",
       "| 8     | 5     | 10.26 | C     | \n",
       "| 8     | 8     | 11.33 | C     | \n",
       "| 8     | 5     |  9.77 | C     | \n",
       "| 8     | 8     | 10.59 | C     | \n",
       "| 8     | 1     |  9.35 | C     | \n",
       "| 8     | 4     | 10.00 | C     | \n",
       "| 8     | 1     |  9.53 | C     | \n",
       "| 8     | 8     | 12.06 | C     | \n",
       "| 8     | 4     |  9.68 | C     | \n",
       "| 8     | 7     | 11.32 | C     | \n",
       "| 8     | 5     | 10.48 | C     | \n",
       "| 8     | 5     | 10.37 | C     | \n",
       "| ⋮ | ⋮ | ⋮ | ⋮ | \n",
       "| 8     | 8     |  9.83 | T     | \n",
       "| 8     | 0     |  7.66 | T     | \n",
       "| 8     | 6     |  9.33 | T     | \n",
       "| 8     | 1     |  8.20 | T     | \n",
       "| 8     | 8     |  9.54 | T     | \n",
       "| 8     | 8     | 10.55 | T     | \n",
       "| 8     | 6     |  9.88 | T     | \n",
       "| 8     | 6     |  9.34 | T     | \n",
       "| 8     | 6     | 10.38 | T     | \n",
       "| 8     | 6     |  9.63 | T     | \n",
       "| 8     | 8     | 12.44 | T     | \n",
       "| 8     | 8     | 10.17 | T     | \n",
       "| 8     | 7     |  9.29 | T     | \n",
       "| 8     | 8     | 11.17 | T     | \n",
       "| 8     | 6     |  9.13 | T     | \n",
       "| 8     | 2     |  8.79 | T     | \n",
       "| 8     | 0     |  8.19 | T     | \n",
       "| 8     | 7     | 10.25 | T     | \n",
       "| 8     | 8     | 11.30 | T     | \n",
       "| 8     | 8     | 10.84 | T     | \n",
       "| 8     | 8     | 10.97 | T     | \n",
       "| 8     | 3     |  8.60 | T     | \n",
       "| 8     | 7     |  9.91 | T     | \n",
       "| 8     | 8     | 11.38 | T     | \n",
       "| 8     | 8     | 10.39 | T     | \n",
       "| 8     | 7     | 10.45 | T     | \n",
       "| 8     | 0     |  8.94 | T     | \n",
       "| 8     | 5     |  8.94 | T     | \n",
       "| 8     | 8     | 10.14 | T     | \n",
       "| 8     | 1     |  8.50 | T     | \n",
       "\n",
       "\n"
      ],
      "text/plain": [
       "    N y x     f\n",
       "1   8 1  9.76 C\n",
       "2   8 6 10.48 C\n",
       "3   8 5 10.83 C\n",
       "4   8 6 10.94 C\n",
       "5   8 1  9.37 C\n",
       "6   8 1  8.81 C\n",
       "7   8 3  9.49 C\n",
       "8   8 6 11.02 C\n",
       "9   8 0  7.97 C\n",
       "10  8 8 11.55 C\n",
       "11  8 0  9.46 C\n",
       "12  8 2  9.47 C\n",
       "13  8 0  8.71 C\n",
       "14  8 5 10.42 C\n",
       "15  8 3 10.06 C\n",
       "16  8 6 11.00 C\n",
       "17  8 3  9.95 C\n",
       "18  8 4  9.52 C\n",
       "19  8 5 10.26 C\n",
       "20  8 8 11.33 C\n",
       "21  8 5  9.77 C\n",
       "22  8 8 10.59 C\n",
       "23  8 1  9.35 C\n",
       "24  8 4 10.00 C\n",
       "25  8 1  9.53 C\n",
       "26  8 8 12.06 C\n",
       "27  8 4  9.68 C\n",
       "28  8 7 11.32 C\n",
       "29  8 5 10.48 C\n",
       "30  8 5 10.37 C\n",
       "⋮   ⋮ ⋮ ⋮     ⋮\n",
       "71  8 8  9.83 T\n",
       "72  8 0  7.66 T\n",
       "73  8 6  9.33 T\n",
       "74  8 1  8.20 T\n",
       "75  8 8  9.54 T\n",
       "76  8 8 10.55 T\n",
       "77  8 6  9.88 T\n",
       "78  8 6  9.34 T\n",
       "79  8 6 10.38 T\n",
       "80  8 6  9.63 T\n",
       "81  8 8 12.44 T\n",
       "82  8 8 10.17 T\n",
       "83  8 7  9.29 T\n",
       "84  8 8 11.17 T\n",
       "85  8 6  9.13 T\n",
       "86  8 2  8.79 T\n",
       "87  8 0  8.19 T\n",
       "88  8 7 10.25 T\n",
       "89  8 8 11.30 T\n",
       "90  8 8 10.84 T\n",
       "91  8 8 10.97 T\n",
       "92  8 3  8.60 T\n",
       "93  8 7  9.91 T\n",
       "94  8 8 11.38 T\n",
       "95  8 8 10.39 T\n",
       "96  8 7 10.45 T\n",
       "97  8 0  8.94 T\n",
       "98  8 5  8.94 T\n",
       "99  8 8 10.14 T\n",
       "100 8 1  8.50 T"
      ]
     },
     "metadata": {},
     "output_type": "display_data"
    }
   ],
   "source": [
    "d <- read.csv('data4a.csv')\n",
    "summary(d)\n",
    "d"
   ]
  },
  {
   "cell_type": "markdown",
   "metadata": {},
   "source": [
    "白丸（C）は施肥処理なし、黒丸（T）は施肥処理あり。\n",
    "\n",
    "x：植物の体サイズ<br>\n",
    "y：生存種子数<br>\n",
    "f:施肥処理の有無<br>\n",
    "\n",
    "体サイズが大きくなると生存種子数は増える傾向<br>\n",
    "肥料をやると生存種子数は増える傾向<br>"
   ]
  },
  {
   "cell_type": "code",
   "execution_count": 10,
   "metadata": {},
   "outputs": [
    {
     "data": {
      "image/png": "[encoded data removed]",
      "text/plain": [
       "plot without title"
      ]
     },
     "metadata": {},
     "output_type": "display_data"
    }
   ],
   "source": [
    "plot(d$x, d$y, pch = c(21, 19)[d$f])\n",
    "legend(\"topleft\", legend=c(\"C\", \"T\"), pch=c(21, 19))"
   ]
  },
  {
   "cell_type": "markdown",
   "metadata": {},
   "source": [
    "### ロジスティック関数の概観"
   ]
  },
  {
   "cell_type": "code",
   "execution_count": 11,
   "metadata": {},
   "outputs": [
    {
     "data": {
      "image/png": "[encoded data removed]",
      "text/plain": [
       "plot without title"
      ]
     },
     "metadata": {},
     "output_type": "display_data"
    }
   ],
   "source": [
    "logistic <- function(z) 1 / (1 + exp(-z))\n",
    "z <- seq(-6, 6, 0.1)\n",
    "plot(z, logistic(z), type=\"l\")"
   ]
  },
  {
   "cell_type": "markdown",
   "metadata": {},
   "source": [
    "ロジスティック関数の逆関数がロジット関数。$logit(q_i) = \\log\\frac{q_i}{1 - q_i}$"
   ]
  },
  {
   "cell_type": "markdown",
   "metadata": {},
   "source": [
    "### ◆行列の結合 rbindとcbind\n",
    "\n",
    "rbindとcbindの違いは結合の方向です。rbindは縦につなげて、cbindは横につなげます。\n",
    "\n",
    "rbindなら結合する行列の列数、cbindなら行数が合っていないとerrorが出ます。"
   ]
  },
  {
   "cell_type": "code",
   "execution_count": 12,
   "metadata": {},
   "outputs": [
    {
     "data": {
      "text/plain": [
       "\n",
       "Call:  glm(formula = cbind(y, N - y) ~ x + f, family = binomial, data = d)\n",
       "\n",
       "Coefficients:\n",
       "(Intercept)            x           fT  \n",
       "    -19.536        1.952        2.022  \n",
       "\n",
       "Degrees of Freedom: 99 Total (i.e. Null);  97 Residual\n",
       "Null Deviance:\t    499.2 \n",
       "Residual Deviance: 123 \tAIC: 272.2"
      ]
     },
     "metadata": {},
     "output_type": "display_data"
    }
   ],
   "source": [
    "fit <- glm(cbind(y, N-y) ~ x + f, data = d, family = binomial)\n",
    "fit"
   ]
  },
  {
   "cell_type": "markdown",
   "metadata": {},
   "source": [
    "family が binomial\n",
    "\n",
    "応答変数が cbind(生存した数、死んだ数)すなわち、<br>\n",
    "一列目が生存した種子 y、二列目が死んだ種子 N-y となります。"
   ]
  },
  {
   "cell_type": "code",
   "execution_count": 13,
   "metadata": {},
   "outputs": [
    {
     "data": {
      "image/png": "[encoded data removed]",
      "text/plain": [
       "plot without title"
      ]
     },
     "metadata": {},
     "output_type": "display_data"
    }
   ],
   "source": [
    "plot(d$x, d$y, pch = c(21, 19)[d$f])\n",
    "xx <- seq(min(d$x), max(d$x), length=100)\n",
    "lines(xx, logistic(-19.536 + 1.952 * xx) * d$N, lwd = 2)\n",
    "lines(xx, logistic(-19.536 + 1.952 * xx + 2.022) * d$N, lwd = 2, lty=2)\n",
    "legend(\"topleft\", legend=c(\"C\", \"T\"), pch=c(21, 19))"
   ]
  },
  {
   "cell_type": "markdown",
   "metadata": {},
   "source": [
    "### AIC によるモデル選択"
   ]
  },
  {
   "cell_type": "code",
   "execution_count": 14,
   "metadata": {},
   "outputs": [
    {
     "name": "stdout",
     "output_type": "stream",
     "text": [
      "Start:  AIC=272.21\n",
      "cbind(y, N - y) ~ x + f\n",
      "\n",
      "       Df Deviance    AIC\n",
      "<none>      123.03 272.21\n",
      "- f     1   217.17 364.35\n",
      "- x     1   490.58 637.76\n"
     ]
    },
    {
     "data": {
      "text/plain": [
       "\n",
       "Call:  glm(formula = cbind(y, N - y) ~ x + f, family = binomial, data = d)\n",
       "\n",
       "Coefficients:\n",
       "(Intercept)            x           fT  \n",
       "    -19.536        1.952        2.022  \n",
       "\n",
       "Degrees of Freedom: 99 Total (i.e. Null);  97 Residual\n",
       "Null Deviance:\t    499.2 \n",
       "Residual Deviance: 123 \tAIC: 272.2"
      ]
     },
     "metadata": {},
     "output_type": "display_data"
    }
   ],
   "source": [
    "library(MASS)\n",
    "stepAIC(fit)"
   ]
  },
  {
   "cell_type": "markdown",
   "metadata": {},
   "source": [
    "-> AIC: 272.2 であることを確認。"
   ]
  },
  {
   "cell_type": "markdown",
   "metadata": {},
   "source": [
    "### 交互作用を考える"
   ]
  },
  {
   "cell_type": "markdown",
   "metadata": {},
   "source": [
    "交互作用とは、植物の体サイズ $x_i$ と施肥効果 $f_i$ の積の効果。\n",
    "\n",
    "$ logit(q_i)=\\beta_1+\\beta_2 x_i + \\beta_3 f_i + \\beta_4 x_i f_i$"
   ]
  },
  {
   "cell_type": "code",
   "execution_count": 15,
   "metadata": {},
   "outputs": [
    {
     "data": {
      "text/plain": [
       "\n",
       "Call:  glm(formula = cbind(y, N - y) ~ x + f + x:f, family = binomial, \n",
       "    data = d)\n",
       "\n",
       "Coefficients:\n",
       "(Intercept)            x           fT         x:fT  \n",
       "  -18.52332      1.85251     -0.06376      0.21634  \n",
       "\n",
       "Degrees of Freedom: 99 Total (i.e. Null);  96 Residual\n",
       "Null Deviance:\t    499.2 \n",
       "Residual Deviance: 122.4 \tAIC: 273.6"
      ]
     },
     "metadata": {},
     "output_type": "display_data"
    }
   ],
   "source": [
    "fit <- glm(cbind(y, N-y) ~ x + f + x : f, data = d, family = binomial)\n",
    "fit"
   ]
  },
  {
   "cell_type": "markdown",
   "metadata": {},
   "source": [
    "・ 施肥なしの場合 fT,x:fTの係数は0なので、<br>\n",
    "　　　　$ logit(q_i)=-18.5 + 1.85 x_i$\n",
    "\n",
    "・ 施肥ありの場合<br>\n",
    "　　　$ logit(q_i)= -18.5-0.0638+(1.85+0.216) x_i = -18.6 + 2.07 x_i $"
   ]
  },
  {
   "cell_type": "markdown",
   "metadata": {},
   "source": [
    "交互作用によって、fT が大きく変わったように見えるが、実際に式を展開すると、そんなに変わらない。 \n",
    "\n",
    "AICの変化<br>\n",
    "　x＋fモデル　AIC=272.2 xfモデル AIC=273.6 -> 交互作用で悪化している\n",
    "\n",
    "交互作用も考慮した図を示す。"
   ]
  },
  {
   "cell_type": "code",
   "execution_count": 16,
   "metadata": {},
   "outputs": [
    {
     "data": {
      "image/png": "[encoded data removed]",
      "text/plain": [
       "plot without title"
      ]
     },
     "metadata": {},
     "output_type": "display_data"
    }
   ],
   "source": [
    "plot(d$x, d$y, pch = c(21, 19)[d$f])\n",
    "xx <- seq(min(d$x), max(d$x), length=100)\n",
    "lines(xx, logistic(-18.52332 + 1.85251 * xx) * d$N, lwd = 2)\n",
    "lines(xx, logistic(-18.52332 + 1.85251 * xx -0.06376 + 0.21634 * xx) * d$N, lwd = 2, lty=2)\n",
    "legend(\"topleft\", legend=c(\"C\", \"T\"), pch=c(21, 19))"
   ]
  },
  {
   "cell_type": "markdown",
   "metadata": {},
   "source": [
    "### オフセット項の導入"
   ]
  },
  {
   "cell_type": "code",
   "execution_count": 17,
   "metadata": {},
   "outputs": [
    {
     "data": {
      "text/html": [
       "<table>\n",
       "<thead><tr><th scope=col>y</th><th scope=col>x</th><th scope=col>A</th></tr></thead>\n",
       "<tbody>\n",
       "\t<tr><td>57  </td><td>0.68</td><td>10.3</td></tr>\n",
       "\t<tr><td>64  </td><td>0.27</td><td>15.6</td></tr>\n",
       "\t<tr><td>49  </td><td>0.46</td><td>10.0</td></tr>\n",
       "\t<tr><td>64  </td><td>0.45</td><td>14.9</td></tr>\n",
       "\t<tr><td>82  </td><td>0.74</td><td>14.0</td></tr>\n",
       "\t<tr><td>29  </td><td>0.15</td><td> 9.6</td></tr>\n",
       "\t<tr><td>37  </td><td>0.50</td><td>11.8</td></tr>\n",
       "\t<tr><td>33  </td><td>0.57</td><td> 6.8</td></tr>\n",
       "\t<tr><td>61  </td><td>0.79</td><td>11.8</td></tr>\n",
       "\t<tr><td>46  </td><td>0.57</td><td> 9.5</td></tr>\n",
       "\t<tr><td>61  </td><td>0.80</td><td>10.5</td></tr>\n",
       "\t<tr><td>30  </td><td>0.62</td><td> 6.8</td></tr>\n",
       "\t<tr><td>45  </td><td>0.84</td><td> 6.4</td></tr>\n",
       "\t<tr><td>21  </td><td>0.36</td><td> 6.0</td></tr>\n",
       "\t<tr><td>39  </td><td>0.49</td><td>11.9</td></tr>\n",
       "\t<tr><td>43  </td><td>0.57</td><td>10.1</td></tr>\n",
       "\t<tr><td>54  </td><td>0.55</td><td>12.0</td></tr>\n",
       "\t<tr><td>24  </td><td>0.13</td><td> 9.0</td></tr>\n",
       "\t<tr><td>33  </td><td>0.65</td><td> 7.1</td></tr>\n",
       "\t<tr><td>39  </td><td>0.62</td><td> 7.4</td></tr>\n",
       "\t<tr><td>53  </td><td>0.52</td><td>12.4</td></tr>\n",
       "\t<tr><td>44  </td><td>0.64</td><td> 8.3</td></tr>\n",
       "\t<tr><td>50  </td><td>0.42</td><td>12.1</td></tr>\n",
       "\t<tr><td>52  </td><td>0.67</td><td> 8.4</td></tr>\n",
       "\t<tr><td>59  </td><td>0.52</td><td>11.4</td></tr>\n",
       "\t<tr><td>33  </td><td>0.19</td><td>11.5</td></tr>\n",
       "\t<tr><td>38  </td><td>0.58</td><td> 9.0</td></tr>\n",
       "\t<tr><td>46  </td><td>0.48</td><td>10.5</td></tr>\n",
       "\t<tr><td>30  </td><td>0.22</td><td> 9.6</td></tr>\n",
       "\t<tr><td>35  </td><td>0.24</td><td>11.9</td></tr>\n",
       "\t<tr><td>⋮</td><td>⋮</td><td>⋮</td></tr>\n",
       "\t<tr><td>54  </td><td>0.50</td><td>10.3</td></tr>\n",
       "\t<tr><td>76  </td><td>0.59</td><td>14.8</td></tr>\n",
       "\t<tr><td>70  </td><td>0.52</td><td>14.2</td></tr>\n",
       "\t<tr><td>36  </td><td>0.33</td><td> 9.8</td></tr>\n",
       "\t<tr><td>38  </td><td>0.23</td><td>10.1</td></tr>\n",
       "\t<tr><td>48  </td><td>0.41</td><td>12.3</td></tr>\n",
       "\t<tr><td>36  </td><td>0.38</td><td>10.6</td></tr>\n",
       "\t<tr><td>43  </td><td>0.49</td><td>11.2</td></tr>\n",
       "\t<tr><td>69  </td><td>0.72</td><td>13.3</td></tr>\n",
       "\t<tr><td>55  </td><td>0.44</td><td>13.6</td></tr>\n",
       "\t<tr><td>51  </td><td>0.41</td><td>13.4</td></tr>\n",
       "\t<tr><td>26  </td><td>0.15</td><td> 9.4</td></tr>\n",
       "\t<tr><td>62  </td><td>0.62</td><td>12.0</td></tr>\n",
       "\t<tr><td>42  </td><td>0.99</td><td> 5.7</td></tr>\n",
       "\t<tr><td>46  </td><td>0.50</td><td> 9.9</td></tr>\n",
       "\t<tr><td>67  </td><td>0.75</td><td>12.9</td></tr>\n",
       "\t<tr><td>67  </td><td>0.65</td><td>13.4</td></tr>\n",
       "\t<tr><td>68  </td><td>0.55</td><td>12.8</td></tr>\n",
       "\t<tr><td>19  </td><td>0.46</td><td> 4.9</td></tr>\n",
       "\t<tr><td>47  </td><td>0.44</td><td>10.0</td></tr>\n",
       "\t<tr><td>41  </td><td>0.62</td><td> 9.0</td></tr>\n",
       "\t<tr><td>69  </td><td>0.22</td><td>16.8</td></tr>\n",
       "\t<tr><td>33  </td><td>0.05</td><td>11.4</td></tr>\n",
       "\t<tr><td>46  </td><td>0.43</td><td>11.2</td></tr>\n",
       "\t<tr><td>74  </td><td>0.58</td><td>17.4</td></tr>\n",
       "\t<tr><td>57  </td><td>0.76</td><td> 9.8</td></tr>\n",
       "\t<tr><td>49  </td><td>0.17</td><td>12.5</td></tr>\n",
       "\t<tr><td>95  </td><td>0.98</td><td>11.4</td></tr>\n",
       "\t<tr><td>27  </td><td>0.54</td><td> 5.4</td></tr>\n",
       "\t<tr><td>71  </td><td>0.47</td><td>13.5</td></tr>\n",
       "</tbody>\n",
       "</table>\n"
      ],
      "text/latex": [
       "\\begin{tabular}{r|lll}\n",
       " y & x & A\\\\\n",
       "\\hline\n",
       "\t 57   & 0.68 & 10.3\\\\\n",
       "\t 64   & 0.27 & 15.6\\\\\n",
       "\t 49   & 0.46 & 10.0\\\\\n",
       "\t 64   & 0.45 & 14.9\\\\\n",
       "\t 82   & 0.74 & 14.0\\\\\n",
       "\t 29   & 0.15 &  9.6\\\\\n",
       "\t 37   & 0.50 & 11.8\\\\\n",
       "\t 33   & 0.57 &  6.8\\\\\n",
       "\t 61   & 0.79 & 11.8\\\\\n",
       "\t 46   & 0.57 &  9.5\\\\\n",
       "\t 61   & 0.80 & 10.5\\\\\n",
       "\t 30   & 0.62 &  6.8\\\\\n",
       "\t 45   & 0.84 &  6.4\\\\\n",
       "\t 21   & 0.36 &  6.0\\\\\n",
       "\t 39   & 0.49 & 11.9\\\\\n",
       "\t 43   & 0.57 & 10.1\\\\\n",
       "\t 54   & 0.55 & 12.0\\\\\n",
       "\t 24   & 0.13 &  9.0\\\\\n",
       "\t 33   & 0.65 &  7.1\\\\\n",
       "\t 39   & 0.62 &  7.4\\\\\n",
       "\t 53   & 0.52 & 12.4\\\\\n",
       "\t 44   & 0.64 &  8.3\\\\\n",
       "\t 50   & 0.42 & 12.1\\\\\n",
       "\t 52   & 0.67 &  8.4\\\\\n",
       "\t 59   & 0.52 & 11.4\\\\\n",
       "\t 33   & 0.19 & 11.5\\\\\n",
       "\t 38   & 0.58 &  9.0\\\\\n",
       "\t 46   & 0.48 & 10.5\\\\\n",
       "\t 30   & 0.22 &  9.6\\\\\n",
       "\t 35   & 0.24 & 11.9\\\\\n",
       "\t ⋮ & ⋮ & ⋮\\\\\n",
       "\t 54   & 0.50 & 10.3\\\\\n",
       "\t 76   & 0.59 & 14.8\\\\\n",
       "\t 70   & 0.52 & 14.2\\\\\n",
       "\t 36   & 0.33 &  9.8\\\\\n",
       "\t 38   & 0.23 & 10.1\\\\\n",
       "\t 48   & 0.41 & 12.3\\\\\n",
       "\t 36   & 0.38 & 10.6\\\\\n",
       "\t 43   & 0.49 & 11.2\\\\\n",
       "\t 69   & 0.72 & 13.3\\\\\n",
       "\t 55   & 0.44 & 13.6\\\\\n",
       "\t 51   & 0.41 & 13.4\\\\\n",
       "\t 26   & 0.15 &  9.4\\\\\n",
       "\t 62   & 0.62 & 12.0\\\\\n",
       "\t 42   & 0.99 &  5.7\\\\\n",
       "\t 46   & 0.50 &  9.9\\\\\n",
       "\t 67   & 0.75 & 12.9\\\\\n",
       "\t 67   & 0.65 & 13.4\\\\\n",
       "\t 68   & 0.55 & 12.8\\\\\n",
       "\t 19   & 0.46 &  4.9\\\\\n",
       "\t 47   & 0.44 & 10.0\\\\\n",
       "\t 41   & 0.62 &  9.0\\\\\n",
       "\t 69   & 0.22 & 16.8\\\\\n",
       "\t 33   & 0.05 & 11.4\\\\\n",
       "\t 46   & 0.43 & 11.2\\\\\n",
       "\t 74   & 0.58 & 17.4\\\\\n",
       "\t 57   & 0.76 &  9.8\\\\\n",
       "\t 49   & 0.17 & 12.5\\\\\n",
       "\t 95   & 0.98 & 11.4\\\\\n",
       "\t 27   & 0.54 &  5.4\\\\\n",
       "\t 71   & 0.47 & 13.5\\\\\n",
       "\\end{tabular}\n"
      ],
      "text/markdown": [
       "\n",
       "y | x | A | \n",
       "|---|---|---|---|---|---|---|---|---|---|---|---|---|---|---|---|---|---|---|---|---|---|---|---|---|---|---|---|---|---|---|---|---|---|---|---|---|---|---|---|---|---|---|---|---|---|---|---|---|---|---|---|---|---|---|---|---|---|---|---|---|\n",
       "| 57   | 0.68 | 10.3 | \n",
       "| 64   | 0.27 | 15.6 | \n",
       "| 49   | 0.46 | 10.0 | \n",
       "| 64   | 0.45 | 14.9 | \n",
       "| 82   | 0.74 | 14.0 | \n",
       "| 29   | 0.15 |  9.6 | \n",
       "| 37   | 0.50 | 11.8 | \n",
       "| 33   | 0.57 |  6.8 | \n",
       "| 61   | 0.79 | 11.8 | \n",
       "| 46   | 0.57 |  9.5 | \n",
       "| 61   | 0.80 | 10.5 | \n",
       "| 30   | 0.62 |  6.8 | \n",
       "| 45   | 0.84 |  6.4 | \n",
       "| 21   | 0.36 |  6.0 | \n",
       "| 39   | 0.49 | 11.9 | \n",
       "| 43   | 0.57 | 10.1 | \n",
       "| 54   | 0.55 | 12.0 | \n",
       "| 24   | 0.13 |  9.0 | \n",
       "| 33   | 0.65 |  7.1 | \n",
       "| 39   | 0.62 |  7.4 | \n",
       "| 53   | 0.52 | 12.4 | \n",
       "| 44   | 0.64 |  8.3 | \n",
       "| 50   | 0.42 | 12.1 | \n",
       "| 52   | 0.67 |  8.4 | \n",
       "| 59   | 0.52 | 11.4 | \n",
       "| 33   | 0.19 | 11.5 | \n",
       "| 38   | 0.58 |  9.0 | \n",
       "| 46   | 0.48 | 10.5 | \n",
       "| 30   | 0.22 |  9.6 | \n",
       "| 35   | 0.24 | 11.9 | \n",
       "| ⋮ | ⋮ | ⋮ | \n",
       "| 54   | 0.50 | 10.3 | \n",
       "| 76   | 0.59 | 14.8 | \n",
       "| 70   | 0.52 | 14.2 | \n",
       "| 36   | 0.33 |  9.8 | \n",
       "| 38   | 0.23 | 10.1 | \n",
       "| 48   | 0.41 | 12.3 | \n",
       "| 36   | 0.38 | 10.6 | \n",
       "| 43   | 0.49 | 11.2 | \n",
       "| 69   | 0.72 | 13.3 | \n",
       "| 55   | 0.44 | 13.6 | \n",
       "| 51   | 0.41 | 13.4 | \n",
       "| 26   | 0.15 |  9.4 | \n",
       "| 62   | 0.62 | 12.0 | \n",
       "| 42   | 0.99 |  5.7 | \n",
       "| 46   | 0.50 |  9.9 | \n",
       "| 67   | 0.75 | 12.9 | \n",
       "| 67   | 0.65 | 13.4 | \n",
       "| 68   | 0.55 | 12.8 | \n",
       "| 19   | 0.46 |  4.9 | \n",
       "| 47   | 0.44 | 10.0 | \n",
       "| 41   | 0.62 |  9.0 | \n",
       "| 69   | 0.22 | 16.8 | \n",
       "| 33   | 0.05 | 11.4 | \n",
       "| 46   | 0.43 | 11.2 | \n",
       "| 74   | 0.58 | 17.4 | \n",
       "| 57   | 0.76 |  9.8 | \n",
       "| 49   | 0.17 | 12.5 | \n",
       "| 95   | 0.98 | 11.4 | \n",
       "| 27   | 0.54 |  5.4 | \n",
       "| 71   | 0.47 | 13.5 | \n",
       "\n",
       "\n"
      ],
      "text/plain": [
       "    y  x    A   \n",
       "1   57 0.68 10.3\n",
       "2   64 0.27 15.6\n",
       "3   49 0.46 10.0\n",
       "4   64 0.45 14.9\n",
       "5   82 0.74 14.0\n",
       "6   29 0.15  9.6\n",
       "7   37 0.50 11.8\n",
       "8   33 0.57  6.8\n",
       "9   61 0.79 11.8\n",
       "10  46 0.57  9.5\n",
       "11  61 0.80 10.5\n",
       "12  30 0.62  6.8\n",
       "13  45 0.84  6.4\n",
       "14  21 0.36  6.0\n",
       "15  39 0.49 11.9\n",
       "16  43 0.57 10.1\n",
       "17  54 0.55 12.0\n",
       "18  24 0.13  9.0\n",
       "19  33 0.65  7.1\n",
       "20  39 0.62  7.4\n",
       "21  53 0.52 12.4\n",
       "22  44 0.64  8.3\n",
       "23  50 0.42 12.1\n",
       "24  52 0.67  8.4\n",
       "25  59 0.52 11.4\n",
       "26  33 0.19 11.5\n",
       "27  38 0.58  9.0\n",
       "28  46 0.48 10.5\n",
       "29  30 0.22  9.6\n",
       "30  35 0.24 11.9\n",
       "⋮   ⋮  ⋮    ⋮   \n",
       "71  54 0.50 10.3\n",
       "72  76 0.59 14.8\n",
       "73  70 0.52 14.2\n",
       "74  36 0.33  9.8\n",
       "75  38 0.23 10.1\n",
       "76  48 0.41 12.3\n",
       "77  36 0.38 10.6\n",
       "78  43 0.49 11.2\n",
       "79  69 0.72 13.3\n",
       "80  55 0.44 13.6\n",
       "81  51 0.41 13.4\n",
       "82  26 0.15  9.4\n",
       "83  62 0.62 12.0\n",
       "84  42 0.99  5.7\n",
       "85  46 0.50  9.9\n",
       "86  67 0.75 12.9\n",
       "87  67 0.65 13.4\n",
       "88  68 0.55 12.8\n",
       "89  19 0.46  4.9\n",
       "90  47 0.44 10.0\n",
       "91  41 0.62  9.0\n",
       "92  69 0.22 16.8\n",
       "93  33 0.05 11.4\n",
       "94  46 0.43 11.2\n",
       "95  74 0.58 17.4\n",
       "96  57 0.76  9.8\n",
       "97  49 0.17 12.5\n",
       "98  95 0.98 11.4\n",
       "99  27 0.54  5.4\n",
       "100 71 0.47 13.5"
      ]
     },
     "metadata": {},
     "output_type": "display_data"
    }
   ],
   "source": [
    "d <- read.csv('data4b.csv')\n",
    "d"
   ]
  },
  {
   "cell_type": "markdown",
   "metadata": {},
   "source": [
    "y: 植物個体数<br>\n",
    "x: 調査地の明るさ<br>\n",
    "A:面積<br>\n",
    "\n",
    "$ \\lambda_i = exp(\\beta_1+\\beta_2 x_i + log A_i ) $<br>\n",
    "-> $\\beta_1+\\beta_2 x_i + log A_i$  が線形予測子で$log A_i$ がオフセット"
   ]
  },
  {
   "cell_type": "code",
   "execution_count": 18,
   "metadata": {},
   "outputs": [
    {
     "data": {
      "text/plain": [
       "\n",
       "Call:  glm(formula = y ~ x, family = poisson, data = d, offset = log(A))\n",
       "\n",
       "Coefficients:\n",
       "(Intercept)            x  \n",
       "     0.9731       1.0383  \n",
       "\n",
       "Degrees of Freedom: 99 Total (i.e. Null);  98 Residual\n",
       "Null Deviance:\t    261.5 \n",
       "Residual Deviance: 81.61 \tAIC: 650.3"
      ]
     },
     "metadata": {},
     "output_type": "display_data"
    }
   ],
   "source": [
    "glm(y ~ x, offset = log(A), family=poisson, data=d)"
   ]
  },
  {
   "cell_type": "code",
   "execution_count": 19,
   "metadata": {},
   "outputs": [
    {
     "data": {
      "image/png": "[encoded data removed]",
      "text/plain": [
       "plot without title"
      ]
     },
     "metadata": {},
     "output_type": "display_data"
    }
   ],
   "source": [
    "plot(d$A, d$y, col=rgb(0, 0, 0, alpha=d$x))\n",
    "xx <- seq(min(d$A), max(d$A), length=100)\n",
    "lines(xx, exp(0.9731 + 1.0383 * min(d$x) + log(xx)), lwd = 2)\n",
    "lines(xx, exp(0.9731 + 1.0383 * max(d$x) + log(xx)), lwd = 2)"
   ]
  },
  {
   "cell_type": "markdown",
   "metadata": {},
   "source": [
    "### 正規分布を使ってみる"
   ]
  },
  {
   "cell_type": "code",
   "execution_count": 20,
   "metadata": {},
   "outputs": [
    {
     "data": {
      "image/png": "[encoded data removed]",
      "text/plain": [
       "plot without title"
      ]
     },
     "metadata": {},
     "output_type": "display_data"
    }
   ],
   "source": [
    "y <- seq(-5, 5, 0.1)\n",
    "plot(y, dnorm(y, mean = 0, sd = 1), type=\"l\")"
   ]
  },
  {
   "cell_type": "markdown",
   "metadata": {},
   "source": [
    "平均$\\mu=0$, 標準偏差$\\sigma=1$の正規分布で、<br>\n",
    "$1.2 \\leq y \\leq 1.8$ なる確率を計算したい場合は、下記のようにする。"
   ]
  },
  {
   "cell_type": "code",
   "execution_count": 21,
   "metadata": {},
   "outputs": [
    {
     "data": {
      "text/html": [
       "0.0791393511087825"
      ],
      "text/latex": [
       "0.0791393511087825"
      ],
      "text/markdown": [
       "0.0791393511087825"
      ],
      "text/plain": [
       "[1] 0.07913935"
      ]
     },
     "metadata": {},
     "output_type": "display_data"
    }
   ],
   "source": [
    "pnorm(1.8, 0, 1) - pnorm(1.2, 0, 1)"
   ]
  },
  {
   "cell_type": "markdown",
   "metadata": {},
   "source": [
    "長方形で近似するという手もある。"
   ]
  },
  {
   "cell_type": "code",
   "execution_count": 22,
   "metadata": {},
   "outputs": [
    {
     "data": {
      "text/html": [
       "0.0777105573995351"
      ],
      "text/latex": [
       "0.0777105573995351"
      ],
      "text/markdown": [
       "0.0777105573995351"
      ],
      "text/plain": [
       "[1] 0.07771056"
      ]
     },
     "metadata": {},
     "output_type": "display_data"
    }
   ],
   "source": [
    "(1.8 - 1.2) * dnorm(1.5, mean=0, sd=1)"
   ]
  },
  {
   "cell_type": "markdown",
   "metadata": {},
   "source": [
    "### ガンマ分布を使ってみる"
   ]
  },
  {
   "cell_type": "code",
   "execution_count": 23,
   "metadata": {},
   "outputs": [
    {
     "data": {
      "image/png": "[encoded data removed]",
      "text/plain": [
       "plot without title"
      ]
     },
     "metadata": {},
     "output_type": "display_data"
    }
   ],
   "source": [
    "y <- seq(0, 5, 0.1)\n",
    "plot(y, dgamma(y, 1, 1), type=\"l\")"
   ]
  },
  {
   "cell_type": "code",
   "execution_count": 24,
   "metadata": {},
   "outputs": [
    {
     "data": {
      "image/png": "[encoded data removed]",
      "text/plain": [
       "plot without title"
      ]
     },
     "metadata": {},
     "output_type": "display_data"
    }
   ],
   "source": [
    "plot(y, dgamma(y, 5, 5), type=\"l\")"
   ]
  },
  {
   "cell_type": "code",
   "execution_count": 25,
   "metadata": {},
   "outputs": [
    {
     "data": {
      "text/html": [
       "<table>\n",
       "<thead><tr><th scope=col>x</th><th scope=col>y</th></tr></thead>\n",
       "<tbody>\n",
       "\t<tr><td>0.00100000  </td><td>0.0008873584</td></tr>\n",
       "\t<tr><td>0.01730612  </td><td>0.0234652100</td></tr>\n",
       "\t<tr><td>0.03361224  </td><td>0.0698755600</td></tr>\n",
       "\t<tr><td>0.04991837  </td><td>0.0343402500</td></tr>\n",
       "\t<tr><td>0.06622449  </td><td>0.0265204000</td></tr>\n",
       "\t<tr><td>0.08253061  </td><td>0.1592148000</td></tr>\n",
       "\t<tr><td>0.09883673  </td><td>0.1650784000</td></tr>\n",
       "\t<tr><td>0.11514290  </td><td>0.1240029000</td></tr>\n",
       "\t<tr><td>0.13144900  </td><td>0.0596455000</td></tr>\n",
       "\t<tr><td>0.14775510  </td><td>0.0552452700</td></tr>\n",
       "\t<tr><td>0.16406120  </td><td>0.1922147000</td></tr>\n",
       "\t<tr><td>0.18036740  </td><td>0.0305346200</td></tr>\n",
       "\t<tr><td>0.19667350  </td><td>0.1050614000</td></tr>\n",
       "\t<tr><td>0.21297960  </td><td>0.0762759200</td></tr>\n",
       "\t<tr><td>0.22928570  </td><td>0.1524998000</td></tr>\n",
       "\t<tr><td>0.24559180  </td><td>0.0564525600</td></tr>\n",
       "\t<tr><td>0.26189800  </td><td>0.0959048800</td></tr>\n",
       "\t<tr><td>0.27820410  </td><td>0.1194827000</td></tr>\n",
       "\t<tr><td>0.29451020  </td><td>0.0379757900</td></tr>\n",
       "\t<tr><td>0.31081630  </td><td>0.1923055000</td></tr>\n",
       "\t<tr><td>0.32712250  </td><td>0.1833032000</td></tr>\n",
       "\t<tr><td>0.34342860  </td><td>0.0949801800</td></tr>\n",
       "\t<tr><td>0.35973470  </td><td>0.0912946500</td></tr>\n",
       "\t<tr><td>0.37604080  </td><td>0.1452413000</td></tr>\n",
       "\t<tr><td>0.39234690  </td><td>0.1090217000</td></tr>\n",
       "\t<tr><td>0.40865310  </td><td>0.2394446000</td></tr>\n",
       "\t<tr><td>0.42495920  </td><td>0.1933050000</td></tr>\n",
       "\t<tr><td>0.44126530  </td><td>0.2026793000</td></tr>\n",
       "\t<tr><td>0.45757140  </td><td>0.2090867000</td></tr>\n",
       "\t<tr><td>0.47387750  </td><td>0.2804644000</td></tr>\n",
       "\t<tr><td>0.49018370  </td><td>0.3679867000</td></tr>\n",
       "\t<tr><td>0.50648980  </td><td>0.1539353000</td></tr>\n",
       "\t<tr><td>0.52279590  </td><td>0.1653358000</td></tr>\n",
       "\t<tr><td>0.53910200  </td><td>0.2970396000</td></tr>\n",
       "\t<tr><td>0.55540820  </td><td>0.3508911000</td></tr>\n",
       "\t<tr><td>0.57171430  </td><td>0.1824436000</td></tr>\n",
       "\t<tr><td>0.58802040  </td><td>0.1344559000</td></tr>\n",
       "\t<tr><td>0.60432650  </td><td>0.4186217000</td></tr>\n",
       "\t<tr><td>0.62063270  </td><td>0.3261179000</td></tr>\n",
       "\t<tr><td>0.63693880  </td><td>0.0558967700</td></tr>\n",
       "\t<tr><td>0.65324490  </td><td>0.2488526000</td></tr>\n",
       "\t<tr><td>0.66955100  </td><td>0.4834365000</td></tr>\n",
       "\t<tr><td>0.68585710  </td><td>0.1486624000</td></tr>\n",
       "\t<tr><td>0.70216330  </td><td>0.0416329800</td></tr>\n",
       "\t<tr><td>0.71846940  </td><td>0.6145356000</td></tr>\n",
       "\t<tr><td>0.73477550  </td><td>0.1978336000</td></tr>\n",
       "\t<tr><td>0.75108160  </td><td>0.1915292000</td></tr>\n",
       "\t<tr><td>0.76738780  </td><td>0.3220099000</td></tr>\n",
       "\t<tr><td>0.78369390  </td><td>0.4539203000</td></tr>\n",
       "\t<tr><td>0.80000000  </td><td>0.1788959000</td></tr>\n",
       "</tbody>\n",
       "</table>\n"
      ],
      "text/latex": [
       "\\begin{tabular}{r|ll}\n",
       " x & y\\\\\n",
       "\\hline\n",
       "\t 0.00100000   & 0.0008873584\\\\\n",
       "\t 0.01730612   & 0.0234652100\\\\\n",
       "\t 0.03361224   & 0.0698755600\\\\\n",
       "\t 0.04991837   & 0.0343402500\\\\\n",
       "\t 0.06622449   & 0.0265204000\\\\\n",
       "\t 0.08253061   & 0.1592148000\\\\\n",
       "\t 0.09883673   & 0.1650784000\\\\\n",
       "\t 0.11514290   & 0.1240029000\\\\\n",
       "\t 0.13144900   & 0.0596455000\\\\\n",
       "\t 0.14775510   & 0.0552452700\\\\\n",
       "\t 0.16406120   & 0.1922147000\\\\\n",
       "\t 0.18036740   & 0.0305346200\\\\\n",
       "\t 0.19667350   & 0.1050614000\\\\\n",
       "\t 0.21297960   & 0.0762759200\\\\\n",
       "\t 0.22928570   & 0.1524998000\\\\\n",
       "\t 0.24559180   & 0.0564525600\\\\\n",
       "\t 0.26189800   & 0.0959048800\\\\\n",
       "\t 0.27820410   & 0.1194827000\\\\\n",
       "\t 0.29451020   & 0.0379757900\\\\\n",
       "\t 0.31081630   & 0.1923055000\\\\\n",
       "\t 0.32712250   & 0.1833032000\\\\\n",
       "\t 0.34342860   & 0.0949801800\\\\\n",
       "\t 0.35973470   & 0.0912946500\\\\\n",
       "\t 0.37604080   & 0.1452413000\\\\\n",
       "\t 0.39234690   & 0.1090217000\\\\\n",
       "\t 0.40865310   & 0.2394446000\\\\\n",
       "\t 0.42495920   & 0.1933050000\\\\\n",
       "\t 0.44126530   & 0.2026793000\\\\\n",
       "\t 0.45757140   & 0.2090867000\\\\\n",
       "\t 0.47387750   & 0.2804644000\\\\\n",
       "\t 0.49018370   & 0.3679867000\\\\\n",
       "\t 0.50648980   & 0.1539353000\\\\\n",
       "\t 0.52279590   & 0.1653358000\\\\\n",
       "\t 0.53910200   & 0.2970396000\\\\\n",
       "\t 0.55540820   & 0.3508911000\\\\\n",
       "\t 0.57171430   & 0.1824436000\\\\\n",
       "\t 0.58802040   & 0.1344559000\\\\\n",
       "\t 0.60432650   & 0.4186217000\\\\\n",
       "\t 0.62063270   & 0.3261179000\\\\\n",
       "\t 0.63693880   & 0.0558967700\\\\\n",
       "\t 0.65324490   & 0.2488526000\\\\\n",
       "\t 0.66955100   & 0.4834365000\\\\\n",
       "\t 0.68585710   & 0.1486624000\\\\\n",
       "\t 0.70216330   & 0.0416329800\\\\\n",
       "\t 0.71846940   & 0.6145356000\\\\\n",
       "\t 0.73477550   & 0.1978336000\\\\\n",
       "\t 0.75108160   & 0.1915292000\\\\\n",
       "\t 0.76738780   & 0.3220099000\\\\\n",
       "\t 0.78369390   & 0.4539203000\\\\\n",
       "\t 0.80000000   & 0.1788959000\\\\\n",
       "\\end{tabular}\n"
      ],
      "text/markdown": [
       "\n",
       "x | y | \n",
       "|---|---|---|---|---|---|---|---|---|---|---|---|---|---|---|---|---|---|---|---|---|---|---|---|---|---|---|---|---|---|---|---|---|---|---|---|---|---|---|---|---|---|---|---|---|---|---|---|---|---|\n",
       "| 0.00100000   | 0.0008873584 | \n",
       "| 0.01730612   | 0.0234652100 | \n",
       "| 0.03361224   | 0.0698755600 | \n",
       "| 0.04991837   | 0.0343402500 | \n",
       "| 0.06622449   | 0.0265204000 | \n",
       "| 0.08253061   | 0.1592148000 | \n",
       "| 0.09883673   | 0.1650784000 | \n",
       "| 0.11514290   | 0.1240029000 | \n",
       "| 0.13144900   | 0.0596455000 | \n",
       "| 0.14775510   | 0.0552452700 | \n",
       "| 0.16406120   | 0.1922147000 | \n",
       "| 0.18036740   | 0.0305346200 | \n",
       "| 0.19667350   | 0.1050614000 | \n",
       "| 0.21297960   | 0.0762759200 | \n",
       "| 0.22928570   | 0.1524998000 | \n",
       "| 0.24559180   | 0.0564525600 | \n",
       "| 0.26189800   | 0.0959048800 | \n",
       "| 0.27820410   | 0.1194827000 | \n",
       "| 0.29451020   | 0.0379757900 | \n",
       "| 0.31081630   | 0.1923055000 | \n",
       "| 0.32712250   | 0.1833032000 | \n",
       "| 0.34342860   | 0.0949801800 | \n",
       "| 0.35973470   | 0.0912946500 | \n",
       "| 0.37604080   | 0.1452413000 | \n",
       "| 0.39234690   | 0.1090217000 | \n",
       "| 0.40865310   | 0.2394446000 | \n",
       "| 0.42495920   | 0.1933050000 | \n",
       "| 0.44126530   | 0.2026793000 | \n",
       "| 0.45757140   | 0.2090867000 | \n",
       "| 0.47387750   | 0.2804644000 | \n",
       "| 0.49018370   | 0.3679867000 | \n",
       "| 0.50648980   | 0.1539353000 | \n",
       "| 0.52279590   | 0.1653358000 | \n",
       "| 0.53910200   | 0.2970396000 | \n",
       "| 0.55540820   | 0.3508911000 | \n",
       "| 0.57171430   | 0.1824436000 | \n",
       "| 0.58802040   | 0.1344559000 | \n",
       "| 0.60432650   | 0.4186217000 | \n",
       "| 0.62063270   | 0.3261179000 | \n",
       "| 0.63693880   | 0.0558967700 | \n",
       "| 0.65324490   | 0.2488526000 | \n",
       "| 0.66955100   | 0.4834365000 | \n",
       "| 0.68585710   | 0.1486624000 | \n",
       "| 0.70216330   | 0.0416329800 | \n",
       "| 0.71846940   | 0.6145356000 | \n",
       "| 0.73477550   | 0.1978336000 | \n",
       "| 0.75108160   | 0.1915292000 | \n",
       "| 0.76738780   | 0.3220099000 | \n",
       "| 0.78369390   | 0.4539203000 | \n",
       "| 0.80000000   | 0.1788959000 | \n",
       "\n",
       "\n"
      ],
      "text/plain": [
       "   x          y           \n",
       "1  0.00100000 0.0008873584\n",
       "2  0.01730612 0.0234652100\n",
       "3  0.03361224 0.0698755600\n",
       "4  0.04991837 0.0343402500\n",
       "5  0.06622449 0.0265204000\n",
       "6  0.08253061 0.1592148000\n",
       "7  0.09883673 0.1650784000\n",
       "8  0.11514290 0.1240029000\n",
       "9  0.13144900 0.0596455000\n",
       "10 0.14775510 0.0552452700\n",
       "11 0.16406120 0.1922147000\n",
       "12 0.18036740 0.0305346200\n",
       "13 0.19667350 0.1050614000\n",
       "14 0.21297960 0.0762759200\n",
       "15 0.22928570 0.1524998000\n",
       "16 0.24559180 0.0564525600\n",
       "17 0.26189800 0.0959048800\n",
       "18 0.27820410 0.1194827000\n",
       "19 0.29451020 0.0379757900\n",
       "20 0.31081630 0.1923055000\n",
       "21 0.32712250 0.1833032000\n",
       "22 0.34342860 0.0949801800\n",
       "23 0.35973470 0.0912946500\n",
       "24 0.37604080 0.1452413000\n",
       "25 0.39234690 0.1090217000\n",
       "26 0.40865310 0.2394446000\n",
       "27 0.42495920 0.1933050000\n",
       "28 0.44126530 0.2026793000\n",
       "29 0.45757140 0.2090867000\n",
       "30 0.47387750 0.2804644000\n",
       "31 0.49018370 0.3679867000\n",
       "32 0.50648980 0.1539353000\n",
       "33 0.52279590 0.1653358000\n",
       "34 0.53910200 0.2970396000\n",
       "35 0.55540820 0.3508911000\n",
       "36 0.57171430 0.1824436000\n",
       "37 0.58802040 0.1344559000\n",
       "38 0.60432650 0.4186217000\n",
       "39 0.62063270 0.3261179000\n",
       "40 0.63693880 0.0558967700\n",
       "41 0.65324490 0.2488526000\n",
       "42 0.66955100 0.4834365000\n",
       "43 0.68585710 0.1486624000\n",
       "44 0.70216330 0.0416329800\n",
       "45 0.71846940 0.6145356000\n",
       "46 0.73477550 0.1978336000\n",
       "47 0.75108160 0.1915292000\n",
       "48 0.76738780 0.3220099000\n",
       "49 0.78369390 0.4539203000\n",
       "50 0.80000000 0.1788959000"
      ]
     },
     "metadata": {},
     "output_type": "display_data"
    }
   ],
   "source": [
    "d <- read.csv('data4c.csv')\n",
    "d"
   ]
  },
  {
   "cell_type": "markdown",
   "metadata": {},
   "source": [
    "$\\mu_i$: 平均花重量<br>\n",
    "$x_i$: 葉重量<br>\n",
    "\n",
    "$\\mu_i= Ax_i^{b}$ とすると、$A=exp(a)$とすると<br>\n",
    "$\\mu_i=exp(a)x_i^{b}=exp(a+b log x_i) $\n",
    "\n",
    "$log \\mu_i=a+b log x_i$<br>\n",
    "-> 線形変数は $x_i$ ではなく $log x_i$, 推定パラメータは 切片a,傾き b, リンク関数は対数リンク関数"
   ]
  },
  {
   "cell_type": "code",
   "execution_count": 26,
   "metadata": {},
   "outputs": [
    {
     "data": {
      "text/plain": [
       "\n",
       "Call:  glm(formula = y ~ log(x), family = Gamma(link = \"log\"), data = d)\n",
       "\n",
       "Coefficients:\n",
       "(Intercept)       log(x)  \n",
       "    -1.0403       0.6833  \n",
       "\n",
       "Degrees of Freedom: 49 Total (i.e. Null);  48 Residual\n",
       "Null Deviance:\t    35.37 \n",
       "Residual Deviance: 17.25 \tAIC: -110.9"
      ]
     },
     "metadata": {},
     "output_type": "display_data"
    },
    {
     "data": {
      "image/png": "[encoded data removed]",
      "text/plain": [
       "plot without title"
      ]
     },
     "metadata": {},
     "output_type": "display_data"
    }
   ],
   "source": [
    "fit <- glm(y ~ log(x), family = Gamma(link = \"log\"), data = d)\n",
    "fit\n",
    "plot(d$x, d$y)\n",
    "xx <- seq(min(d$x), max(d$x), length=100)\n",
    "lines(xx, exp(-1.0403 + 0.6833 * log(xx)), lwd = 2)"
   ]
  },
  {
   "cell_type": "markdown",
   "metadata": {},
   "source": [
    "## 7章 一般化線形混合モデル(GLMM)"
   ]
  },
  {
   "cell_type": "markdown",
   "metadata": {},
   "source": [
    "### まずは、データを読み込む"
   ]
  },
  {
   "cell_type": "code",
   "execution_count": 27,
   "metadata": {},
   "outputs": [
    {
     "data": {
      "text/plain": [
       "       N           y              x           id        \n",
       " Min.   :8   Min.   :0.00   Min.   :2   Min.   :  1.00  \n",
       " 1st Qu.:8   1st Qu.:1.00   1st Qu.:3   1st Qu.: 25.75  \n",
       " Median :8   Median :3.00   Median :4   Median : 50.50  \n",
       " Mean   :8   Mean   :3.81   Mean   :4   Mean   : 50.50  \n",
       " 3rd Qu.:8   3rd Qu.:7.00   3rd Qu.:5   3rd Qu.: 75.25  \n",
       " Max.   :8   Max.   :8.00   Max.   :6   Max.   :100.00  "
      ]
     },
     "metadata": {},
     "output_type": "display_data"
    }
   ],
   "source": [
    "d <- read.csv('data5.csv')\n",
    "summary(d)"
   ]
  },
  {
   "cell_type": "markdown",
   "metadata": {},
   "source": [
    "生存種子数 y は二項分布に従うとして、fitting を行う。"
   ]
  },
  {
   "cell_type": "code",
   "execution_count": 28,
   "metadata": {},
   "outputs": [
    {
     "data": {
      "text/plain": [
       "\n",
       "Call:  glm(formula = cbind(y, N - y) ~ x, family = binomial, data = d)\n",
       "\n",
       "Coefficients:\n",
       "(Intercept)            x  \n",
       "    -2.1487       0.5104  \n",
       "\n",
       "Degrees of Freedom: 99 Total (i.e. Null);  98 Residual\n",
       "Null Deviance:\t    607.4 \n",
       "Residual Deviance: 513.8 \tAIC: 649.6"
      ]
     },
     "metadata": {},
     "output_type": "display_data"
    }
   ],
   "source": [
    "fit <- glm(cbind(y, N-y) ~ x, data=d, family=binomial)\n",
    "fit"
   ]
  },
  {
   "cell_type": "markdown",
   "metadata": {},
   "source": [
    "fitting は行われたが、真の傾き$\\hat{\\beta}_2=1$と比べると推定値$\\beta_2=0.51$は小さい。"
   ]
  },
  {
   "cell_type": "code",
   "execution_count": 29,
   "metadata": {},
   "outputs": [
    {
     "data": {
      "image/png": "[encoded data removed]",
      "text/plain": [
       "plot without title"
      ]
     },
     "metadata": {},
     "output_type": "display_data"
    }
   ],
   "source": [
    "logistic <- function(z) 1 / (1 + exp(-z))\n",
    "plot(jitter(d$x), d$y)\n",
    "xx <- seq(min(d$x), max(d$x), length=100)\n",
    "lines(xx, logistic(-2.1487 + 0.5104 * xx)*d$N, lwd=2)\n",
    "lines(xx, logistic(-4 + 1 * xx)*d$N, lwd=2, lty=2)"
   ]
  },
  {
   "cell_type": "markdown",
   "metadata": {},
   "source": [
    "$x_i=4$である個体に絞って見てみると、<br> \n",
    "本来は線で示した二項分布に乗るはずだが、実際は大きく異なる分布を見せている。"
   ]
  },
  {
   "cell_type": "code",
   "execution_count": 30,
   "metadata": {},
   "outputs": [
    {
     "data": {
      "text/plain": [
       "       N           y              x           id       \n",
       " Min.   :8   Min.   :0.00   Min.   :4   Min.   :41.00  \n",
       " 1st Qu.:8   1st Qu.:2.00   1st Qu.:4   1st Qu.:45.75  \n",
       " Median :8   Median :3.50   Median :4   Median :50.50  \n",
       " Mean   :8   Mean   :4.05   Mean   :4   Mean   :50.50  \n",
       " 3rd Qu.:8   3rd Qu.:7.00   3rd Qu.:4   3rd Qu.:55.25  \n",
       " Max.   :8   Max.   :8.00   Max.   :4   Max.   :60.00  "
      ]
     },
     "metadata": {},
     "output_type": "display_data"
    },
    {
     "data": {
      "image/png": "[encoded data removed]",
      "text/plain": [
       "plot without title"
      ]
     },
     "metadata": {},
     "output_type": "display_data"
    }
   ],
   "source": [
    "d4 <- d[d$x==4,]\n",
    "summary(d4)\n",
    "plot(table(d4$y))\n",
    "y <- seq(0, 8, 1)\n",
    "lines(y, dbinom(y, mean(d$N), logistic(-2.1487 + 0.5104 * 4)) * length(d4$y))"
   ]
  },
  {
   "cell_type": "markdown",
   "metadata": {},
   "source": [
    "だいぶ二項分布とは異なる。"
   ]
  },
  {
   "cell_type": "markdown",
   "metadata": {},
   "source": [
    "### 過分散と個体差"
   ]
  },
  {
   "cell_type": "code",
   "execution_count": 31,
   "metadata": {},
   "outputs": [
    {
     "data": {
      "text/html": [
       "<ol class=list-inline>\n",
       "\t<li>4.05</li>\n",
       "\t<li>8.36578947368421</li>\n",
       "</ol>\n"
      ],
      "text/latex": [
       "\\begin{enumerate*}\n",
       "\\item 4.05\n",
       "\\item 8.36578947368421\n",
       "\\end{enumerate*}\n"
      ],
      "text/markdown": [
       "1. 4.05\n",
       "2. 8.36578947368421\n",
       "\n",
       "\n"
      ],
      "text/plain": [
       "[1] 4.050000 8.365789"
      ]
     },
     "metadata": {},
     "output_type": "display_data"
    }
   ],
   "source": [
    "c(mean(d4$y), var(d4$y))"
   ]
  },
  {
   "cell_type": "markdown",
   "metadata": {},
   "source": [
    "### 過分散（overdispersion）"
   ]
  },
  {
   "cell_type": "markdown",
   "metadata": {},
   "source": [
    "二項分布に従うなら<br>\n",
    "平均は 全生存数/全調査種子数=4.05/8=0.5 くらいで、<br>\n",
    "分散は Nq(1-q)=8 ✖︎ 0.5 ✖︎ (1-0.5) = 2<br>\n",
    "くらいになるはずなのに、実際の分散は 8.4 と大きい。 <br>\n",
    "-> 二項分布の過分散（overdispersion）の例<br>\n",
    "  -> 全個体の生存種子数の分布は、ただ一つの二項分布で説明できる<br>\n",
    "       と期待したのに失敗した。\n",
    "\n",
    "個体が持つ要因によって予想よりも分散が大きくなってしまっている。<br>\n",
    "→実際の現象ではよく起こること。 そこで、個体差を表すパラメタ $r_i$ を線形予測子に導入する。"
   ]
  },
  {
   "cell_type": "markdown",
   "metadata": {},
   "source": [
    "個体差＝データとして定量化も識別もされていないけど、各個体の何かに起因しているように見える差\n",
    "\n",
    "観測者は架空植物に影響を与えている要因を全て定量・特定することはできない<br>\n",
    "-> 個体差や場所差を原因不明のまま、これらの影響をうまく取り込んだ統計モデルが必要。"
   ]
  },
  {
   "cell_type": "markdown",
   "metadata": {},
   "source": [
    "## 一般化線形混合モデル\n",
    "\n",
    "個体差や場所差の効果をGLMに組み込んだ統計モデル"
   ]
  },
  {
   "cell_type": "markdown",
   "metadata": {},
   "source": [
    "$ logit(q_i)=\\beta_1+\\beta_2 x_i + \\gamma_i $\n",
    "\n",
    "$\\gamma_i  $ : 個体 $i$ の個体差を表すパラメータ,$-\\infty $ から $\\infty $ までの範囲をとる連続値\n",
    "\n",
    "固定効果(fixed effect)：y の平均にだけ影響およぼす<br>\n",
    "ランダム効果(random effect)：y の分散 (ばらつき) にだけ影響およぼす\n",
    "\n",
    "両方含むものは混合モデル(mixed model)<br>\n",
    "-> $\\beta_1+\\beta_2 x_i + \\gamma_i $ は、切片$\\beta_1$, 葉数 $\\beta_2$ は固定効果、個体差 $\\gamma_i$ はランダム効果。両方含むので、混合モデル"
   ]
  },
  {
   "cell_type": "code",
   "execution_count": 32,
   "metadata": {},
   "outputs": [],
   "source": [
    "#install.packages(\"glmmML\")"
   ]
  },
  {
   "cell_type": "code",
   "execution_count": 33,
   "metadata": {},
   "outputs": [
    {
     "data": {
      "text/plain": [
       "\n",
       "Call:  glmmML(formula = cbind(y, N - y) ~ x, family = binomial, data = d,      cluster = id) \n",
       "\n",
       "\n",
       "              coef se(coef)      z Pr(>|z|)\n",
       "(Intercept) -4.190   0.8777 -4.774 1.81e-06\n",
       "x            1.005   0.2075  4.843 1.28e-06\n",
       "\n",
       "Scale parameter in mixing distribution:  2.408 gaussian \n",
       "Std. Error:                              0.2202 \n",
       "\n",
       "        LR p-value for H_0: sigma = 0:  2.136e-55 \n",
       "\n",
       "Residual deviance: 269.4 on 97 degrees of freedom \tAIC: 275.4 "
      ]
     },
     "metadata": {},
     "output_type": "display_data"
    }
   ],
   "source": [
    "library(glmmML)\n",
    "glmmML(cbind(y, N-y) ~ x, data=d, family=binomial, cluster=id)"
   ]
  },
  {
   "cell_type": "markdown",
   "metadata": {},
   "source": [
    "## 結果検証\n",
    "\n",
    "係数：β1=-4.190(真の値は-4), β2=1.005(真の値は1) -> うまく推定出来ている\n",
    "\n",
    "スケールパラメータ：個体差のばらつき rのこと=s 2.408 -> sの推定値 真の値は3なので過小推定されている\n",
    "\n",
    "100個のデータに対して3つのパラメータ(β1,β2,s)を使用しているので、使える残りの自由度は<br>\n",
    "100 - 3 = 97 (on 97 degrees of freedom )\n",
    "\n",
    "AICは275.4"
   ]
  },
  {
   "cell_type": "markdown",
   "metadata": {},
   "source": [
    "### 反復・疑似反復\n",
    "\n",
    "GLMMを採用するかどうかの判断のポイントは、<br>\n",
    "GLMによるモデリングでは過分散になるかどうかよりも、<br>\n",
    "個体差・場所差が識別できてしまうデータの取り方をしているか、<br>\n",
    "つまり疑似反復をしているかどうかである。\n",
    "\n",
    "「個体から複数のデータをとる」ことを<b>擬似反復</b>といい、<br>\n",
    "同じ個体から得られたデータは似た傾向を持つと考えられるため、<br>\n",
    "個体差を考慮しなければ推定結果に偏りが生じるためである。<br>"
   ]
  },
  {
   "cell_type": "markdown",
   "metadata": {},
   "source": [
    "(A) 個体・植木鉢が反復<br>\n",
    "・1個体/植木鉢 かつ 1種子/個体<br>\n",
    "・個体差と植木鉢差を区別できない<br>\n",
    "・GLMで推定して問題ない<br>\n",
    "\n",
    "(B) 個体は疑似反復、植木鉢は反復<br>\n",
    "・1個体/植木鉢 かつ n種子/個体<br>\n",
    "・e.x. 個体Aから得られた種子は生きてるのが多いが、<br>\n",
    "　個体Bから得られた種子は死んでいるのが多い<br>\n",
    "・植木鉢に植わっている個体は1つだけなので、<br>\n",
    "　その差が個体差によるものか植木鉢差によるものか区別できない<br>\n",
    "・個体差を考慮したGLMMで推定する<br>\n",
    "\n",
    "(C) 個体は反復・植木鉢は疑似反復<br>\n",
    "・n個体/植木鉢 かつ 1種子/個体<br>\n",
    "・e.x. 植木鉢Aから得られた種子は死んでいるのが多いが、<br>\n",
    "　植木鉢Bから得られた種子は生きているのが多い<br>\n",
    "・個体から得る種子は1つだけなので、<br>\n",
    "　その差が個体差によるものか植木鉢差によるものか区別できない<br>\n",
    "・植木鉢差を考慮したGLMMで推定する<br>\n",
    "\n",
    "(D) 個体・植木鉢が擬似反復<br>\n",
    "・n個体/植木鉢 かつ n種子/個体<br>\n",
    "・個体差・植木鉢差を考慮したGLMMで推定する<br>\n",
    "\n",
    "なお、(D)のように2つのランダム効果を考慮しながら最尤推定するのは難しいので、<br>\n",
    "GLMMと最尤推定ではなくベイズモデルとMCMCが実際にはよく使われる？"
   ]
  },
  {
   "cell_type": "markdown",
   "metadata": {},
   "source": [
    "## まとめ\n",
    "\n",
    "・GLMでは全個体が均質と仮定してモデリングするが、<br>\n",
    "　現実のデータでは個体差が存在するため、<br>\n",
    "　GLMによるモデリングよりも過分散になる<br>\n",
    "\n",
    "・個体差・場所差を組み込んだモデリングをおこなうには<br>\n",
    "　一般化線形混合モデル(GLMM)を使用する<br>\n",
    "\n",
    "・GLMMを適用するのはデータが過分散となるかどうかよりも<br>\n",
    "　擬似反復となるようなデータの取り方をしているかどうかである<br>"
   ]
  },
  {
   "cell_type": "markdown",
   "metadata": {},
   "source": [
    "## 8. MCMC"
   ]
  },
  {
   "cell_type": "code",
   "execution_count": 34,
   "metadata": {},
   "outputs": [
    {
     "data": {
      "text/html": [
       "0.45625"
      ],
      "text/latex": [
       "0.45625"
      ],
      "text/markdown": [
       "0.45625"
      ],
      "text/plain": [
       "[1] 0.45625"
      ]
     },
     "metadata": {},
     "output_type": "display_data"
    },
    {
     "data": {
      "image/png": "[encoded data removed]",
      "text/plain": [
       "Plot with title “Histogram of data”"
      ]
     },
     "metadata": {},
     "output_type": "display_data"
    }
   ],
   "source": [
    "data <- c(4,3,4,5,5,2,3,1,4,0,1,5,5,6,5,4,4,5,3,4)\n",
    "sum(data) / (8 * 20)\n",
    "hist(data, breaks=seq(-0.5, 8.5, 1))\n",
    "xx <- seq(0, 8, 1)\n",
    "lines(xx, dbinom(xx, 8, 0.45)*length(data))"
   ]
  },
  {
   "cell_type": "markdown",
   "metadata": {},
   "source": [
    "### ◆二項分布の計算\n",
    "\n",
    "dbinom：ちょうど x 回成功する確率<br>\n",
    "pbinom：成功回数が q 回以下である確率<br>\n",
    "qbinom：二項分布のパーセント点<br>\n",
    "rbinom：二項分布からサンプルを抽出<br>\n",
    "\n",
    "dbinom(4, 10, 0.3)<br>\n",
    "説明：成功確率が 0.3 である試行を 10 回行ったときに、4 回成功する確率を計算。"
   ]
  },
  {
   "cell_type": "markdown",
   "metadata": {},
   "source": [
    "### 参考文献\n",
    "\n",
    "ランダム効果とは<br>\n",
    "http://hosho.ees.hokudai.ac.jp/~kubo/ce/RandomEffectsCrawley.html\n",
    "\n",
    "glammML<br>\n",
    "https://cran.r-project.org/\n",
    "\n",
    "Rで二項分布の計算をする（dbinomなど）<br>\n",
    "https://mathwords.net/dbinom\n"
   ]
  },
  {
   "cell_type": "code",
   "execution_count": null,
   "metadata": {},
   "outputs": [],
   "source": []
  }
 ],
 "metadata": {
  "kernelspec": {
   "display_name": "R",
   "language": "R",
   "name": "ir"
  },
  "language_info": {
   "codemirror_mode": "r",
   "file_extension": ".r",
   "mimetype": "text/x-r-source",
   "name": "R",
   "pygments_lexer": "r",
   "version": "3.4.3"
  }
 },
 "nbformat": 4,
 "nbformat_minor": 2
}
